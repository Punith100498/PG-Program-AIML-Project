{
 "cells": [
  {
   "cell_type": "markdown",
   "id": "5bb94eaf",
   "metadata": {},
   "source": [
    "**CONTEXT:**  A bank X is on a massive digital transformation for all its departments. Bank has a growing customer base whee  majority of them are liability customers (depositors) vs borrowers (asset customers). The bank is interested in expanding the  borrowers base rapidly to bring in more business via loan interests. A campaign that the bank ran in last quarter showed an  average single digit conversion rate. Digital transformation being the core strength of the business strategy, marketing  department wants to devise effective campaigns with better target marketing to increase the conversion ratio to double digit  with same budget as per last campaign. "
   ]
  },
  {
   "cell_type": "markdown",
   "id": "a54b0771",
   "metadata": {},
   "source": [
    "**PROJECT OBJECTIVE:** Build a Machine Learning model to perform focused marketing by predicting the potential customers who will convert using the historical dataset."
   ]
  },
  {
   "cell_type": "markdown",
   "id": "d75e60fd",
   "metadata": {},
   "source": [
    "#  Data Understanding and Preparation"
   ]
  },
  {
   "cell_type": "code",
   "execution_count": 1,
   "id": "c12c9a0b",
   "metadata": {},
   "outputs": [],
   "source": [
    "import numpy as np\n",
    "import pandas as pd\n",
    "import matplotlib.pyplot as plt\n",
    "import seaborn as sns\n",
    "%matplotlib inline"
   ]
  },
  {
   "cell_type": "code",
   "execution_count": 2,
   "id": "76de8fbe",
   "metadata": {},
   "outputs": [],
   "source": [
    "df1 = pd.read_csv('Data1.csv')\n",
    "df2 = pd.read_csv(\"Data2.csv\")"
   ]
  },
  {
   "cell_type": "code",
   "execution_count": 3,
   "id": "dfb2f52d",
   "metadata": {},
   "outputs": [
    {
     "name": "stdout",
     "output_type": "stream",
     "text": [
      "<class 'pandas.core.frame.DataFrame'>\n",
      "RangeIndex: 5000 entries, 0 to 4999\n",
      "Data columns (total 8 columns):\n",
      " #   Column               Non-Null Count  Dtype  \n",
      "---  ------               --------------  -----  \n",
      " 0   ID                   5000 non-null   int64  \n",
      " 1   Age                  5000 non-null   int64  \n",
      " 2   CustomerSince        5000 non-null   int64  \n",
      " 3   HighestSpend         5000 non-null   int64  \n",
      " 4   ZipCode              5000 non-null   int64  \n",
      " 5   HiddenScore          5000 non-null   int64  \n",
      " 6   MonthlyAverageSpend  5000 non-null   float64\n",
      " 7   Level                5000 non-null   int64  \n",
      "dtypes: float64(1), int64(7)\n",
      "memory usage: 312.6 KB\n",
      "None\n",
      "**************************************************************************\n",
      "<class 'pandas.core.frame.DataFrame'>\n",
      "RangeIndex: 5000 entries, 0 to 4999\n",
      "Data columns (total 7 columns):\n",
      " #   Column               Non-Null Count  Dtype  \n",
      "---  ------               --------------  -----  \n",
      " 0   ID                   5000 non-null   int64  \n",
      " 1   Mortgage             5000 non-null   int64  \n",
      " 2   Security             5000 non-null   int64  \n",
      " 3   FixedDepositAccount  5000 non-null   int64  \n",
      " 4   InternetBanking      5000 non-null   int64  \n",
      " 5   CreditCard           5000 non-null   int64  \n",
      " 6   LoanOnCard           4980 non-null   float64\n",
      "dtypes: float64(1), int64(6)\n",
      "memory usage: 273.6 KB\n",
      "None\n",
      "**************************************************************************\n"
     ]
    }
   ],
   "source": [
    "print(df1.info())\n",
    "print('*'*74)\n",
    "print(df2.info())\n",
    "print('*'*74)"
   ]
  },
  {
   "cell_type": "code",
   "execution_count": 4,
   "id": "5770b668",
   "metadata": {},
   "outputs": [],
   "source": [
    "df  = pd.merge(df1,df2,on = \"ID\")"
   ]
  },
  {
   "cell_type": "code",
   "execution_count": 5,
   "id": "a67fc37f",
   "metadata": {},
   "outputs": [],
   "source": [
    "# df['LoanOnCard'] = df[\"LoanOnCard\"].map({0:\"No\",1:\"Yes\"})"
   ]
  },
  {
   "cell_type": "code",
   "execution_count": 6,
   "id": "26647c14",
   "metadata": {},
   "outputs": [],
   "source": [
    "colnames = ['CreditCard','InternetBanking','FixedDepositAccount','Security','Level','HiddenScore']"
   ]
  },
  {
   "cell_type": "code",
   "execution_count": 7,
   "id": "ec604dab",
   "metadata": {},
   "outputs": [],
   "source": [
    "for feature in colnames:\n",
    "    df[feature] = df[feature].astype('object')"
   ]
  },
  {
   "cell_type": "code",
   "execution_count": 8,
   "id": "6cb9309a",
   "metadata": {},
   "outputs": [
    {
     "name": "stdout",
     "output_type": "stream",
     "text": [
      "<class 'pandas.core.frame.DataFrame'>\n",
      "Int64Index: 5000 entries, 0 to 4999\n",
      "Data columns (total 14 columns):\n",
      " #   Column               Non-Null Count  Dtype  \n",
      "---  ------               --------------  -----  \n",
      " 0   ID                   5000 non-null   int64  \n",
      " 1   Age                  5000 non-null   int64  \n",
      " 2   CustomerSince        5000 non-null   int64  \n",
      " 3   HighestSpend         5000 non-null   int64  \n",
      " 4   ZipCode              5000 non-null   int64  \n",
      " 5   HiddenScore          5000 non-null   object \n",
      " 6   MonthlyAverageSpend  5000 non-null   float64\n",
      " 7   Level                5000 non-null   object \n",
      " 8   Mortgage             5000 non-null   int64  \n",
      " 9   Security             5000 non-null   object \n",
      " 10  FixedDepositAccount  5000 non-null   object \n",
      " 11  InternetBanking      5000 non-null   object \n",
      " 12  CreditCard           5000 non-null   object \n",
      " 13  LoanOnCard           4980 non-null   float64\n",
      "dtypes: float64(2), int64(6), object(6)\n",
      "memory usage: 585.9+ KB\n"
     ]
    }
   ],
   "source": [
    "df.info()"
   ]
  },
  {
   "cell_type": "markdown",
   "id": "50c2741d",
   "metadata": {},
   "source": [
    "#  Data Exploration and Analysis"
   ]
  },
  {
   "cell_type": "code",
   "execution_count": 9,
   "id": "09571c5a",
   "metadata": {},
   "outputs": [
    {
     "data": {
      "text/plain": [
       "<AxesSubplot:xlabel='LoanOnCard', ylabel='count'>"
      ]
     },
     "execution_count": 9,
     "metadata": {},
     "output_type": "execute_result"
    },
    {
     "data": {
      "image/png": "[encoded data removed]",
      "text/plain": [
       "<Figure size 640x480 with 1 Axes>"
      ]
     },
     "metadata": {},
     "output_type": "display_data"
    }
   ],
   "source": [
    "sns.countplot(data = df,x = df[\"LoanOnCard\"])"
   ]
  },
  {
   "cell_type": "code",
   "execution_count": 10,
   "id": "dabdd9d7",
   "metadata": {},
   "outputs": [
    {
     "data": {
      "text/plain": [
       "ID                     0.000\n",
       "Age                    0.000\n",
       "CustomerSince          0.000\n",
       "HighestSpend           0.000\n",
       "ZipCode                0.000\n",
       "HiddenScore            0.000\n",
       "MonthlyAverageSpend    0.000\n",
       "Level                  0.000\n",
       "Mortgage               0.000\n",
       "Security               0.000\n",
       "FixedDepositAccount    0.000\n",
       "InternetBanking        0.000\n",
       "CreditCard             0.000\n",
       "LoanOnCard             0.004\n",
       "dtype: float64"
      ]
     },
     "execution_count": 10,
     "metadata": {},
     "output_type": "execute_result"
    }
   ],
   "source": [
    "df.isna().sum()/len(df)"
   ]
  },
  {
   "cell_type": "code",
   "execution_count": 11,
   "id": "2c3a5a50",
   "metadata": {},
   "outputs": [],
   "source": [
    "df.dropna(inplace = True)"
   ]
  },
  {
   "cell_type": "code",
   "execution_count": 12,
   "id": "d76dcda3",
   "metadata": {},
   "outputs": [
    {
     "data": {
      "text/plain": [
       "ID                     0.0\n",
       "Age                    0.0\n",
       "CustomerSince          0.0\n",
       "HighestSpend           0.0\n",
       "ZipCode                0.0\n",
       "HiddenScore            0.0\n",
       "MonthlyAverageSpend    0.0\n",
       "Level                  0.0\n",
       "Mortgage               0.0\n",
       "Security               0.0\n",
       "FixedDepositAccount    0.0\n",
       "InternetBanking        0.0\n",
       "CreditCard             0.0\n",
       "LoanOnCard             0.0\n",
       "dtype: float64"
      ]
     },
     "execution_count": 12,
     "metadata": {},
     "output_type": "execute_result"
    }
   ],
   "source": [
    "df.isna().sum()/len(df)"
   ]
  },
  {
   "cell_type": "code",
   "execution_count": 13,
   "id": "fa62f355",
   "metadata": {},
   "outputs": [],
   "source": [
    "col_list = df.select_dtypes(include='object').columns"
   ]
  },
  {
   "cell_type": "code",
   "execution_count": 14,
   "id": "32242e79",
   "metadata": {},
   "outputs": [
    {
     "data": {
      "text/plain": [
       "Index(['HiddenScore', 'Level', 'Security', 'FixedDepositAccount',\n",
       "       'InternetBanking', 'CreditCard'],\n",
       "      dtype='object')"
      ]
     },
     "execution_count": 14,
     "metadata": {},
     "output_type": "execute_result"
    }
   ],
   "source": [
    "col_list"
   ]
  },
  {
   "cell_type": "code",
   "execution_count": 15,
   "id": "5757489b",
   "metadata": {},
   "outputs": [
    {
     "name": "stdout",
     "output_type": "stream",
     "text": [
      "Unique Values in HiddenScore are \n",
      " 1    1466\n",
      "2    1293\n",
      "4    1215\n",
      "3    1006\n",
      "Name: HiddenScore, dtype: int64\n",
      "****************************************\n",
      "Unique Values in Level are \n",
      " 1    2089\n",
      "3    1496\n",
      "2    1395\n",
      "Name: Level, dtype: int64\n",
      "****************************************\n",
      "Unique Values in Security are \n",
      " 0    4460\n",
      "1     520\n",
      "Name: Security, dtype: int64\n",
      "****************************************\n",
      "Unique Values in FixedDepositAccount are \n",
      " 0    4678\n",
      "1     302\n",
      "Name: FixedDepositAccount, dtype: int64\n",
      "****************************************\n",
      "Unique Values in InternetBanking are \n",
      " 1    2974\n",
      "0    2006\n",
      "Name: InternetBanking, dtype: int64\n",
      "****************************************\n",
      "Unique Values in CreditCard are \n",
      " 0    3514\n",
      "1    1466\n",
      "Name: CreditCard, dtype: int64\n",
      "****************************************\n"
     ]
    }
   ],
   "source": [
    "for i in col_list:\n",
    "    print(\"Unique Values in {} are \\n\".format(i),df[i].value_counts())\n",
    "    print(\"**\"*20)"
   ]
  },
  {
   "cell_type": "markdown",
   "id": "6c2c8176",
   "metadata": {},
   "source": [
    "#  Data Preparation and model building"
   ]
  },
  {
   "cell_type": "code",
   "execution_count": 16,
   "id": "818f261d",
   "metadata": {},
   "outputs": [],
   "source": [
    "X = df.drop(['LoanOnCard','ID','ZipCode'],axis=1)\n",
    "y = df['LoanOnCard']"
   ]
  },
  {
   "cell_type": "code",
   "execution_count": 17,
   "id": "547a822f",
   "metadata": {},
   "outputs": [],
   "source": [
    "from sklearn.model_selection import train_test_split"
   ]
  },
  {
   "cell_type": "code",
   "execution_count": 18,
   "id": "2ebbbbbc",
   "metadata": {},
   "outputs": [],
   "source": [
    "X_train,X_test,y_train,y_test = train_test_split(X,y,test_size = 0.25,random_state= 90)"
   ]
  },
  {
   "cell_type": "code",
   "execution_count": 19,
   "id": "d488a0c7",
   "metadata": {},
   "outputs": [],
   "source": [
    "from sklearn.linear_model import LogisticRegression"
   ]
  },
  {
   "cell_type": "code",
   "execution_count": 20,
   "id": "3247d07e",
   "metadata": {},
   "outputs": [],
   "source": [
    "log_model = LogisticRegression(solver='lbfgs',max_iter=2000)"
   ]
  },
  {
   "cell_type": "code",
   "execution_count": 21,
   "id": "2de0efa8",
   "metadata": {},
   "outputs": [
    {
     "data": {
      "text/plain": [
       "LogisticRegression(max_iter=2000)"
      ]
     },
     "execution_count": 21,
     "metadata": {},
     "output_type": "execute_result"
    }
   ],
   "source": [
    "log_model.fit(X_train,y_train)"
   ]
  },
  {
   "cell_type": "code",
   "execution_count": 22,
   "id": "489792da",
   "metadata": {},
   "outputs": [
    {
     "data": {
      "text/plain": [
       "0.9507362784471218"
      ]
     },
     "execution_count": 22,
     "metadata": {},
     "output_type": "execute_result"
    }
   ],
   "source": [
    "log_model.score(X_train,y_train)"
   ]
  },
  {
   "cell_type": "code",
   "execution_count": 23,
   "id": "37ee1209",
   "metadata": {},
   "outputs": [
    {
     "data": {
      "text/plain": [
       "0.9582329317269076"
      ]
     },
     "execution_count": 23,
     "metadata": {},
     "output_type": "execute_result"
    }
   ],
   "source": [
    "log_model.score(X_test,y_test)"
   ]
  },
  {
   "cell_type": "code",
   "execution_count": 24,
   "id": "65439404",
   "metadata": {},
   "outputs": [],
   "source": [
    "from sklearn.metrics import accuracy_score,recall_score,f1_score,plot_confusion_matrix,classification_report"
   ]
  },
  {
   "cell_type": "code",
   "execution_count": 25,
   "id": "fa601827",
   "metadata": {},
   "outputs": [],
   "source": [
    "y_train_pred = log_model.predict(X_train)\n",
    "y_test_pred = log_model.predict(X_test)"
   ]
  },
  {
   "cell_type": "code",
   "execution_count": 26,
   "id": "f374cf27",
   "metadata": {},
   "outputs": [
    {
     "name": "stdout",
     "output_type": "stream",
     "text": [
      "Training_score : 0.9507362784471218\n",
      "**************************************************\n",
      "Testing_score : 0.9582329317269076\n",
      "**************************************************\n",
      "Training_metrics :               precision    recall  f1-score   support\n",
      "\n",
      "         0.0       0.96      0.99      0.97      3375\n",
      "         1.0       0.83      0.62      0.71       360\n",
      "\n",
      "    accuracy                           0.95      3735\n",
      "   macro avg       0.89      0.80      0.84      3735\n",
      "weighted avg       0.95      0.95      0.95      3735\n",
      "\n",
      "**************************************************\n",
      "Testing_metrics :               precision    recall  f1-score   support\n",
      "\n",
      "         0.0       0.96      0.99      0.98      1125\n",
      "         1.0       0.90      0.63      0.75       120\n",
      "\n",
      "    accuracy                           0.96      1245\n",
      "   macro avg       0.93      0.81      0.86      1245\n",
      "weighted avg       0.96      0.96      0.95      1245\n",
      "\n",
      "**************************************************\n"
     ]
    }
   ],
   "source": [
    "print(\"Training_score :\",accuracy_score(y_train,y_train_pred))\n",
    "print(\"**\"*25)\n",
    "print(\"Testing_score :\",accuracy_score(y_test,y_test_pred))\n",
    "print(\"**\"*25)\n",
    "print(\"Training_metrics :\",classification_report(y_train,y_train_pred))\n",
    "print(\"**\"*25)\n",
    "print(\"Testing_metrics :\",classification_report(y_test,y_test_pred))\n",
    "print(\"**\"*25)"
   ]
  },
  {
   "cell_type": "markdown",
   "id": "ac8ed3a6",
   "metadata": {},
   "source": [
    "# Balacing The Dataset "
   ]
  },
  {
   "cell_type": "code",
   "execution_count": 27,
   "id": "77698eaf",
   "metadata": {},
   "outputs": [
    {
     "name": "stdout",
     "output_type": "stream",
     "text": [
      "Requirement already satisfied: imbalanced-learn in c:\\users\\administrator\\anaconda3\\lib\\site-packages (0.12.0)\n",
      "Requirement already satisfied: numpy>=1.17.3 in c:\\users\\administrator\\anaconda3\\lib\\site-packages (from imbalanced-learn) (1.21.5)\n",
      "Requirement already satisfied: joblib>=1.1.1 in c:\\users\\administrator\\anaconda3\\lib\\site-packages (from imbalanced-learn) (1.3.2)\n",
      "Requirement already satisfied: scipy>=1.5.0 in c:\\users\\administrator\\anaconda3\\lib\\site-packages (from imbalanced-learn) (1.9.1)\n",
      "Requirement already satisfied: threadpoolctl>=2.0.0 in c:\\users\\administrator\\anaconda3\\lib\\site-packages (from imbalanced-learn) (2.2.0)\n",
      "Requirement already satisfied: scikit-learn>=1.0.2 in c:\\users\\administrator\\anaconda3\\lib\\site-packages (from imbalanced-learn) (1.0.2)\n",
      "Note: you may need to restart the kernel to use updated packages.\n"
     ]
    }
   ],
   "source": [
    "pip install imbalanced-learn\n"
   ]
  },
  {
   "cell_type": "code",
   "execution_count": 28,
   "id": "046bd58f",
   "metadata": {},
   "outputs": [],
   "source": [
    "from imblearn.under_sampling import RandomUnderSampler\n",
    "from imblearn.over_sampling import RandomOverSampler"
   ]
  },
  {
   "cell_type": "code",
   "execution_count": 29,
   "id": "9812470d",
   "metadata": {},
   "outputs": [],
   "source": [
    "under_sample = RandomUnderSampler(sampling_strategy=0.5)\n",
    "over_sample = RandomOverSampler(sampling_strategy='minority')"
   ]
  },
  {
   "cell_type": "code",
   "execution_count": 30,
   "id": "4aec3ecc",
   "metadata": {},
   "outputs": [],
   "source": [
    "X_under,y_under = under_sample.fit_resample(X,y)"
   ]
  },
  {
   "cell_type": "code",
   "execution_count": 31,
   "id": "bf1ae412",
   "metadata": {},
   "outputs": [
    {
     "data": {
      "text/plain": [
       "(1440, 11)"
      ]
     },
     "execution_count": 31,
     "metadata": {},
     "output_type": "execute_result"
    }
   ],
   "source": [
    "X_under.shape"
   ]
  },
  {
   "cell_type": "code",
   "execution_count": 32,
   "id": "b8f085b0",
   "metadata": {},
   "outputs": [
    {
     "data": {
      "text/plain": [
       "(1440,)"
      ]
     },
     "execution_count": 32,
     "metadata": {},
     "output_type": "execute_result"
    }
   ],
   "source": [
    "y_under.shape"
   ]
  },
  {
   "cell_type": "code",
   "execution_count": 33,
   "id": "adea35c1",
   "metadata": {},
   "outputs": [
    {
     "data": {
      "text/plain": [
       "0.0    960\n",
       "1.0    480\n",
       "Name: LoanOnCard, dtype: int64"
      ]
     },
     "execution_count": 33,
     "metadata": {},
     "output_type": "execute_result"
    }
   ],
   "source": [
    "y_under.value_counts()"
   ]
  },
  {
   "cell_type": "code",
   "execution_count": 34,
   "id": "6cf7323f",
   "metadata": {},
   "outputs": [],
   "source": [
    "X_new,y_new = over_sample.fit_resample(X_under,y_under)"
   ]
  },
  {
   "cell_type": "code",
   "execution_count": 35,
   "id": "3ad7447b",
   "metadata": {},
   "outputs": [
    {
     "data": {
      "text/plain": [
       "(1920, 11)"
      ]
     },
     "execution_count": 35,
     "metadata": {},
     "output_type": "execute_result"
    }
   ],
   "source": [
    "X_new.shape"
   ]
  },
  {
   "cell_type": "code",
   "execution_count": 36,
   "id": "3cfc1b73",
   "metadata": {},
   "outputs": [
    {
     "data": {
      "text/plain": [
       "0.0    960\n",
       "1.0    960\n",
       "Name: LoanOnCard, dtype: int64"
      ]
     },
     "execution_count": 36,
     "metadata": {},
     "output_type": "execute_result"
    }
   ],
   "source": [
    "y_new.value_counts()"
   ]
  },
  {
   "cell_type": "code",
   "execution_count": 37,
   "id": "10f70eed",
   "metadata": {},
   "outputs": [],
   "source": [
    "X_train,X_test,y_train,y_test = train_test_split(X_new,y_new,test_size = 0.25,random_state = 42)"
   ]
  },
  {
   "cell_type": "code",
   "execution_count": 38,
   "id": "3dc1d5e2",
   "metadata": {},
   "outputs": [
    {
     "data": {
      "text/plain": [
       "LogisticRegression(max_iter=2000)"
      ]
     },
     "execution_count": 38,
     "metadata": {},
     "output_type": "execute_result"
    }
   ],
   "source": [
    "log_model.fit(X_train,y_train)"
   ]
  },
  {
   "cell_type": "code",
   "execution_count": 39,
   "id": "99bc5b93",
   "metadata": {},
   "outputs": [],
   "source": [
    "y_train_pred = log_model.predict(X_train)\n",
    "y_test_pred = log_model.predict(X_test)"
   ]
  },
  {
   "cell_type": "code",
   "execution_count": 40,
   "id": "d5ce0af7",
   "metadata": {},
   "outputs": [
    {
     "name": "stdout",
     "output_type": "stream",
     "text": [
      "Training_score : 0.8993055555555556\n",
      "**************************************************\n",
      "Testing_score : 0.9208333333333333\n",
      "**************************************************\n",
      "Training_metrics :               precision    recall  f1-score   support\n",
      "\n",
      "         0.0       0.90      0.89      0.90       719\n",
      "         1.0       0.89      0.91      0.90       721\n",
      "\n",
      "    accuracy                           0.90      1440\n",
      "   macro avg       0.90      0.90      0.90      1440\n",
      "weighted avg       0.90      0.90      0.90      1440\n",
      "\n",
      "**************************************************\n",
      "Testing_metrics :               precision    recall  f1-score   support\n",
      "\n",
      "         0.0       0.92      0.92      0.92       241\n",
      "         1.0       0.92      0.92      0.92       239\n",
      "\n",
      "    accuracy                           0.92       480\n",
      "   macro avg       0.92      0.92      0.92       480\n",
      "weighted avg       0.92      0.92      0.92       480\n",
      "\n",
      "**************************************************\n"
     ]
    }
   ],
   "source": [
    "print(\"Training_score :\",accuracy_score(y_train,y_train_pred))\n",
    "print(\"**\"*25)\n",
    "print(\"Testing_score :\",accuracy_score(y_test,y_test_pred))\n",
    "print(\"**\"*25)\n",
    "print(\"Training_metrics :\",classification_report(y_train,y_train_pred))\n",
    "print(\"**\"*25)\n",
    "print(\"Testing_metrics :\",classification_report(y_test,y_test_pred))\n",
    "print(\"**\"*25)"
   ]
  },
  {
   "cell_type": "markdown",
   "id": "0435d680",
   "metadata": {},
   "source": [
    "#  Performance Improvement"
   ]
  },
  {
   "cell_type": "code",
   "execution_count": 41,
   "id": "6138f647",
   "metadata": {},
   "outputs": [],
   "source": [
    "from sklearn.svm import SVC\n",
    "from sklearn.naive_bayes import MultinomialNB, GaussianNB"
   ]
  },
  {
   "cell_type": "code",
   "execution_count": 42,
   "id": "8d8dfa82",
   "metadata": {},
   "outputs": [],
   "source": [
    "def classify(classifier):\n",
    "    classifier.fit(X_train,y_train)\n",
    "    pred_train = classifier.predict(X_train)\n",
    "    pred_test = classifier.predict(X_test)\n",
    "    print('Training Performace')\n",
    "    print(classification_report(y_train,y_train_pred))\n",
    "    print('*'*50)\n",
    "    print('Testing Performace')\n",
    "    print(classification_report(y_test,y_test_pred))"
   ]
  },
  {
   "cell_type": "code",
   "execution_count": 43,
   "id": "19a17eba",
   "metadata": {},
   "outputs": [
    {
     "name": "stdout",
     "output_type": "stream",
     "text": [
      "Training Performace\n",
      "              precision    recall  f1-score   support\n",
      "\n",
      "         0.0       0.90      0.89      0.90       719\n",
      "         1.0       0.89      0.91      0.90       721\n",
      "\n",
      "    accuracy                           0.90      1440\n",
      "   macro avg       0.90      0.90      0.90      1440\n",
      "weighted avg       0.90      0.90      0.90      1440\n",
      "\n",
      "**************************************************\n",
      "Testing Performace\n",
      "              precision    recall  f1-score   support\n",
      "\n",
      "         0.0       0.92      0.92      0.92       241\n",
      "         1.0       0.92      0.92      0.92       239\n",
      "\n",
      "    accuracy                           0.92       480\n",
      "   macro avg       0.92      0.92      0.92       480\n",
      "weighted avg       0.92      0.92      0.92       480\n",
      "\n"
     ]
    }
   ],
   "source": [
    "svm = SVC()\n",
    "classify(svm)"
   ]
  },
  {
   "cell_type": "code",
   "execution_count": 44,
   "id": "9a6eaafc",
   "metadata": {},
   "outputs": [
    {
     "name": "stdout",
     "output_type": "stream",
     "text": [
      "Training Performace\n",
      "              precision    recall  f1-score   support\n",
      "\n",
      "         0.0       0.90      0.89      0.90       719\n",
      "         1.0       0.89      0.91      0.90       721\n",
      "\n",
      "    accuracy                           0.90      1440\n",
      "   macro avg       0.90      0.90      0.90      1440\n",
      "weighted avg       0.90      0.90      0.90      1440\n",
      "\n",
      "**************************************************\n",
      "Testing Performace\n",
      "              precision    recall  f1-score   support\n",
      "\n",
      "         0.0       0.92      0.92      0.92       241\n",
      "         1.0       0.92      0.92      0.92       239\n",
      "\n",
      "    accuracy                           0.92       480\n",
      "   macro avg       0.92      0.92      0.92       480\n",
      "weighted avg       0.92      0.92      0.92       480\n",
      "\n"
     ]
    }
   ],
   "source": [
    "nb = GaussianNB()\n",
    "classify(nb)"
   ]
  },
  {
   "cell_type": "code",
   "execution_count": 45,
   "id": "122d51fc",
   "metadata": {},
   "outputs": [
    {
     "name": "stdout",
     "output_type": "stream",
     "text": [
      "Training Performace\n",
      "              precision    recall  f1-score   support\n",
      "\n",
      "         0.0       0.90      0.89      0.90       719\n",
      "         1.0       0.89      0.91      0.90       721\n",
      "\n",
      "    accuracy                           0.90      1440\n",
      "   macro avg       0.90      0.90      0.90      1440\n",
      "weighted avg       0.90      0.90      0.90      1440\n",
      "\n",
      "**************************************************\n",
      "Testing Performace\n",
      "              precision    recall  f1-score   support\n",
      "\n",
      "         0.0       0.92      0.92      0.92       241\n",
      "         1.0       0.92      0.92      0.92       239\n",
      "\n",
      "    accuracy                           0.92       480\n",
      "   macro avg       0.92      0.92      0.92       480\n",
      "weighted avg       0.92      0.92      0.92       480\n",
      "\n"
     ]
    }
   ],
   "source": [
    "svm = SVC(C=5,kernel='rbf',gamma='auto')\n",
    "classify(svm)"
   ]
  }
 ],
 "metadata": {
  "kernelspec": {
   "display_name": "Python 3 (ipykernel)",
   "language": "python",
   "name": "python3"
  },
  "language_info": {
   "codemirror_mode": {
    "name": "ipython",
    "version": 3
   },
   "file_extension": ".py",
   "mimetype": "text/x-python",
   "name": "python",
   "nbconvert_exporter": "python",
   "pygments_lexer": "ipython3",
   "version": "3.9.13"
  }
 },
 "nbformat": 4,
 "nbformat_minor": 5
}
