{
 "cells": [
  {
   "cell_type": "markdown",
   "id": "ebb13183",
   "metadata": {},
   "source": [
    "CONTEXT: Company X is a EU online publisher focusing on the startups industry. The company specifically reports on the business related to technology news, analysis of emerging trends and profiling of new tech businesses and products. Their event i.e. Startup Battlefield is the world’s pre-eminent startup competition. Startup Battlefield features 15-30 top early stage startups pitching top judges in front of a vast live audience, present in person and online.\n"
   ]
  },
  {
   "cell_type": "markdown",
   "id": "3b199532",
   "metadata": {},
   "source": [
    "PROJECT OBJECTIVE: Analyse the data of the various companies from the given dataset and perform the tasks that are specified in the below steps. Draw insights from the various attributes that are present in the dataset, plot distributions, state hypotheses and draw conclusions from the dataset."
   ]
  },
  {
   "cell_type": "markdown",
   "id": "56777de6",
   "metadata": {},
   "source": [
    "# Import libraries"
   ]
  },
  {
   "cell_type": "code",
   "execution_count": 2,
   "id": "ad258160",
   "metadata": {},
   "outputs": [],
   "source": [
    "import numpy as np\n",
    "import pandas as pd\n",
    "import matplotlib.pyplot as plt\n",
    "import seaborn as sns"
   ]
  },
  {
   "cell_type": "code",
   "execution_count": 4,
   "id": "6ceb41cd",
   "metadata": {},
   "outputs": [
    {
     "name": "stdout",
     "output_type": "stream",
     "text": [
      "(662, 6)\n"
     ]
    },
    {
     "data": {
      "text/html": [
       "<div>\n",
       "<style scoped>\n",
       "    .dataframe tbody tr th:only-of-type {\n",
       "        vertical-align: middle;\n",
       "    }\n",
       "\n",
       "    .dataframe tbody tr th {\n",
       "        vertical-align: top;\n",
       "    }\n",
       "\n",
       "    .dataframe thead th {\n",
       "        text-align: right;\n",
       "    }\n",
       "</style>\n",
       "<table border=\"1\" class=\"dataframe\">\n",
       "  <thead>\n",
       "    <tr style=\"text-align: right;\">\n",
       "      <th></th>\n",
       "      <th>Startup</th>\n",
       "      <th>Product</th>\n",
       "      <th>Funding</th>\n",
       "      <th>Event</th>\n",
       "      <th>Result</th>\n",
       "      <th>OperatingState</th>\n",
       "    </tr>\n",
       "  </thead>\n",
       "  <tbody>\n",
       "    <tr>\n",
       "      <th>0</th>\n",
       "      <td>2600Hz</td>\n",
       "      <td>2600hz.com</td>\n",
       "      <td>NaN</td>\n",
       "      <td>Disrupt SF 2013</td>\n",
       "      <td>Contestant</td>\n",
       "      <td>Operating</td>\n",
       "    </tr>\n",
       "    <tr>\n",
       "      <th>1</th>\n",
       "      <td>3DLT</td>\n",
       "      <td>3dlt.com</td>\n",
       "      <td>$630K</td>\n",
       "      <td>Disrupt NYC 2013</td>\n",
       "      <td>Contestant</td>\n",
       "      <td>Closed</td>\n",
       "    </tr>\n",
       "    <tr>\n",
       "      <th>2</th>\n",
       "      <td>3DPrinterOS</td>\n",
       "      <td>3dprinteros.com</td>\n",
       "      <td>NaN</td>\n",
       "      <td>Disrupt SF 2016</td>\n",
       "      <td>Contestant</td>\n",
       "      <td>Operating</td>\n",
       "    </tr>\n",
       "    <tr>\n",
       "      <th>3</th>\n",
       "      <td>3Dprintler</td>\n",
       "      <td>3dprintler.com</td>\n",
       "      <td>$1M</td>\n",
       "      <td>Disrupt NY 2016</td>\n",
       "      <td>Audience choice</td>\n",
       "      <td>Operating</td>\n",
       "    </tr>\n",
       "    <tr>\n",
       "      <th>4</th>\n",
       "      <td>42 Technologies</td>\n",
       "      <td>42technologies.com</td>\n",
       "      <td>NaN</td>\n",
       "      <td>Disrupt NYC 2013</td>\n",
       "      <td>Contestant</td>\n",
       "      <td>Operating</td>\n",
       "    </tr>\n",
       "    <tr>\n",
       "      <th>5</th>\n",
       "      <td>5to1</td>\n",
       "      <td>5to1.com</td>\n",
       "      <td>$19.3M</td>\n",
       "      <td>TC50 2009</td>\n",
       "      <td>Contestant</td>\n",
       "      <td>Acquired</td>\n",
       "    </tr>\n",
       "    <tr>\n",
       "      <th>6</th>\n",
       "      <td>8 Securities</td>\n",
       "      <td>8securities.com</td>\n",
       "      <td>$29M</td>\n",
       "      <td>Disrupt Beijing 2011</td>\n",
       "      <td>Finalist</td>\n",
       "      <td>Operating</td>\n",
       "    </tr>\n",
       "    <tr>\n",
       "      <th>7</th>\n",
       "      <td>8020 Media</td>\n",
       "      <td>8020media.com</td>\n",
       "      <td>NaN</td>\n",
       "      <td>TC40 2007</td>\n",
       "      <td>Contestant</td>\n",
       "      <td>Operating</td>\n",
       "    </tr>\n",
       "    <tr>\n",
       "      <th>8</th>\n",
       "      <td>About Last Night</td>\n",
       "      <td>aboutlastnight.net</td>\n",
       "      <td>NaN</td>\n",
       "      <td>Disrupt NYC 2012</td>\n",
       "      <td>Contestant</td>\n",
       "      <td>Operating</td>\n",
       "    </tr>\n",
       "    <tr>\n",
       "      <th>9</th>\n",
       "      <td>Adgregate Markets</td>\n",
       "      <td>adgregate.com</td>\n",
       "      <td>NaN</td>\n",
       "      <td>TC50 2008</td>\n",
       "      <td>Contestant</td>\n",
       "      <td>Operating</td>\n",
       "    </tr>\n",
       "  </tbody>\n",
       "</table>\n",
       "</div>"
      ],
      "text/plain": [
       "             Startup             Product Funding                 Event  \\\n",
       "0             2600Hz          2600hz.com     NaN       Disrupt SF 2013   \n",
       "1               3DLT            3dlt.com   $630K      Disrupt NYC 2013   \n",
       "2        3DPrinterOS     3dprinteros.com     NaN       Disrupt SF 2016   \n",
       "3         3Dprintler      3dprintler.com     $1M       Disrupt NY 2016   \n",
       "4    42 Technologies  42technologies.com     NaN      Disrupt NYC 2013   \n",
       "5               5to1            5to1.com  $19.3M             TC50 2009   \n",
       "6       8 Securities     8securities.com    $29M  Disrupt Beijing 2011   \n",
       "7         8020 Media       8020media.com     NaN             TC40 2007   \n",
       "8   About Last Night  aboutlastnight.net     NaN      Disrupt NYC 2012   \n",
       "9  Adgregate Markets       adgregate.com     NaN             TC50 2008   \n",
       "\n",
       "            Result OperatingState  \n",
       "0       Contestant      Operating  \n",
       "1       Contestant         Closed  \n",
       "2       Contestant      Operating  \n",
       "3  Audience choice      Operating  \n",
       "4       Contestant      Operating  \n",
       "5       Contestant       Acquired  \n",
       "6         Finalist      Operating  \n",
       "7       Contestant      Operating  \n",
       "8       Contestant      Operating  \n",
       "9       Contestant      Operating  "
      ]
     },
     "execution_count": 4,
     "metadata": {},
     "output_type": "execute_result"
    }
   ],
   "source": [
    "data = pd.read_csv(\"DS+-+Part3+-+CompanyX_EU.csv\")\n",
    "print(data.shape)\n",
    "data.head(10)"
   ]
  },
  {
   "cell_type": "markdown",
   "id": "572b27ac",
   "metadata": {},
   "source": [
    "#### Data exploration"
   ]
  },
  {
   "cell_type": "code",
   "execution_count": 5,
   "id": "8734db30",
   "metadata": {},
   "outputs": [
    {
     "data": {
      "text/plain": [
       "Startup             0\n",
       "Product             6\n",
       "Funding           214\n",
       "Event               0\n",
       "Result              0\n",
       "OperatingState      0\n",
       "dtype: int64"
      ]
     },
     "execution_count": 5,
     "metadata": {},
     "output_type": "execute_result"
    }
   ],
   "source": [
    "data.isna().sum()"
   ]
  },
  {
   "cell_type": "markdown",
   "id": "ee27c5a3",
   "metadata": {},
   "source": [
    "\n",
    "- Turns out we do not have data of funds raised by all the companies\n",
    "- We would need need it to perform the first task, hence we will have to ignore the companies of which we do not have data for the funds they raised\n"
   ]
  },
  {
   "cell_type": "code",
   "execution_count": 6,
   "id": "214d28bf",
   "metadata": {},
   "outputs": [],
   "source": [
    "df1 = data.copy().dropna()"
   ]
  },
  {
   "cell_type": "code",
   "execution_count": 8,
   "id": "07da4297",
   "metadata": {},
   "outputs": [
    {
     "name": "stdout",
     "output_type": "stream",
     "text": [
      "(446, 6)\n"
     ]
    },
    {
     "data": {
      "text/html": [
       "<div>\n",
       "<style scoped>\n",
       "    .dataframe tbody tr th:only-of-type {\n",
       "        vertical-align: middle;\n",
       "    }\n",
       "\n",
       "    .dataframe tbody tr th {\n",
       "        vertical-align: top;\n",
       "    }\n",
       "\n",
       "    .dataframe thead th {\n",
       "        text-align: right;\n",
       "    }\n",
       "</style>\n",
       "<table border=\"1\" class=\"dataframe\">\n",
       "  <thead>\n",
       "    <tr style=\"text-align: right;\">\n",
       "      <th></th>\n",
       "      <th>Startup</th>\n",
       "      <th>Product</th>\n",
       "      <th>Funding</th>\n",
       "      <th>Event</th>\n",
       "      <th>Result</th>\n",
       "      <th>OperatingState</th>\n",
       "    </tr>\n",
       "  </thead>\n",
       "  <tbody>\n",
       "    <tr>\n",
       "      <th>1</th>\n",
       "      <td>3DLT</td>\n",
       "      <td>3dlt.com</td>\n",
       "      <td>$630K</td>\n",
       "      <td>Disrupt NYC 2013</td>\n",
       "      <td>Contestant</td>\n",
       "      <td>Closed</td>\n",
       "    </tr>\n",
       "    <tr>\n",
       "      <th>3</th>\n",
       "      <td>3Dprintler</td>\n",
       "      <td>3dprintler.com</td>\n",
       "      <td>$1M</td>\n",
       "      <td>Disrupt NY 2016</td>\n",
       "      <td>Audience choice</td>\n",
       "      <td>Operating</td>\n",
       "    </tr>\n",
       "    <tr>\n",
       "      <th>5</th>\n",
       "      <td>5to1</td>\n",
       "      <td>5to1.com</td>\n",
       "      <td>$19.3M</td>\n",
       "      <td>TC50 2009</td>\n",
       "      <td>Contestant</td>\n",
       "      <td>Acquired</td>\n",
       "    </tr>\n",
       "    <tr>\n",
       "      <th>6</th>\n",
       "      <td>8 Securities</td>\n",
       "      <td>8securities.com</td>\n",
       "      <td>$29M</td>\n",
       "      <td>Disrupt Beijing 2011</td>\n",
       "      <td>Finalist</td>\n",
       "      <td>Operating</td>\n",
       "    </tr>\n",
       "    <tr>\n",
       "      <th>10</th>\n",
       "      <td>AdhereTech</td>\n",
       "      <td>adheretech.com</td>\n",
       "      <td>$1.8M</td>\n",
       "      <td>Hardware Battlefield 2014</td>\n",
       "      <td>Contestant</td>\n",
       "      <td>Operating</td>\n",
       "    </tr>\n",
       "  </tbody>\n",
       "</table>\n",
       "</div>"
      ],
      "text/plain": [
       "         Startup          Product Funding                      Event  \\\n",
       "1           3DLT         3dlt.com   $630K           Disrupt NYC 2013   \n",
       "3     3Dprintler   3dprintler.com     $1M            Disrupt NY 2016   \n",
       "5           5to1         5to1.com  $19.3M                  TC50 2009   \n",
       "6   8 Securities  8securities.com    $29M       Disrupt Beijing 2011   \n",
       "10    AdhereTech   adheretech.com   $1.8M  Hardware Battlefield 2014   \n",
       "\n",
       "             Result OperatingState  \n",
       "1        Contestant         Closed  \n",
       "3   Audience choice      Operating  \n",
       "5        Contestant       Acquired  \n",
       "6          Finalist      Operating  \n",
       "10       Contestant      Operating  "
      ]
     },
     "execution_count": 8,
     "metadata": {},
     "output_type": "execute_result"
    }
   ],
   "source": [
    "print(df1.shape)\n",
    "df1.head()"
   ]
  },
  {
   "cell_type": "code",
   "execution_count": 10,
   "id": "6790b542",
   "metadata": {},
   "outputs": [
    {
     "data": {
      "text/plain": [
       "0"
      ]
     },
     "execution_count": 10,
     "metadata": {},
     "output_type": "execute_result"
    }
   ],
   "source": [
    "df1.duplicated().sum()"
   ]
  },
  {
   "cell_type": "code",
   "execution_count": 14,
   "id": "ab75f5db",
   "metadata": {},
   "outputs": [],
   "source": [
    "df1[\"Funding_in_Million\"] = df1[\"Funding\"].apply(lambda x : float(x[1:-1])/1000 if x[-1] == \"K\" else float(x[1:-1])*1000 if x[-1] == \"B\" else float(x[1:-1]))"
   ]
  },
  {
   "cell_type": "code",
   "execution_count": 16,
   "id": "b350f3c1",
   "metadata": {},
   "outputs": [
    {
     "data": {
      "text/html": [
       "<div>\n",
       "<style scoped>\n",
       "    .dataframe tbody tr th:only-of-type {\n",
       "        vertical-align: middle;\n",
       "    }\n",
       "\n",
       "    .dataframe tbody tr th {\n",
       "        vertical-align: top;\n",
       "    }\n",
       "\n",
       "    .dataframe thead th {\n",
       "        text-align: right;\n",
       "    }\n",
       "</style>\n",
       "<table border=\"1\" class=\"dataframe\">\n",
       "  <thead>\n",
       "    <tr style=\"text-align: right;\">\n",
       "      <th></th>\n",
       "      <th>Startup</th>\n",
       "      <th>Product</th>\n",
       "      <th>Funding</th>\n",
       "      <th>Event</th>\n",
       "      <th>Result</th>\n",
       "      <th>OperatingState</th>\n",
       "      <th>Funding_in_Million</th>\n",
       "    </tr>\n",
       "  </thead>\n",
       "  <tbody>\n",
       "    <tr>\n",
       "      <th>1</th>\n",
       "      <td>3DLT</td>\n",
       "      <td>3dlt.com</td>\n",
       "      <td>$630K</td>\n",
       "      <td>Disrupt NYC 2013</td>\n",
       "      <td>Contestant</td>\n",
       "      <td>Closed</td>\n",
       "      <td>0.6300</td>\n",
       "    </tr>\n",
       "    <tr>\n",
       "      <th>3</th>\n",
       "      <td>3Dprintler</td>\n",
       "      <td>3dprintler.com</td>\n",
       "      <td>$1M</td>\n",
       "      <td>Disrupt NY 2016</td>\n",
       "      <td>Audience choice</td>\n",
       "      <td>Operating</td>\n",
       "      <td>1.0000</td>\n",
       "    </tr>\n",
       "    <tr>\n",
       "      <th>5</th>\n",
       "      <td>5to1</td>\n",
       "      <td>5to1.com</td>\n",
       "      <td>$19.3M</td>\n",
       "      <td>TC50 2009</td>\n",
       "      <td>Contestant</td>\n",
       "      <td>Acquired</td>\n",
       "      <td>19.3000</td>\n",
       "    </tr>\n",
       "    <tr>\n",
       "      <th>6</th>\n",
       "      <td>8 Securities</td>\n",
       "      <td>8securities.com</td>\n",
       "      <td>$29M</td>\n",
       "      <td>Disrupt Beijing 2011</td>\n",
       "      <td>Finalist</td>\n",
       "      <td>Operating</td>\n",
       "      <td>29.0000</td>\n",
       "    </tr>\n",
       "    <tr>\n",
       "      <th>10</th>\n",
       "      <td>AdhereTech</td>\n",
       "      <td>adheretech.com</td>\n",
       "      <td>$1.8M</td>\n",
       "      <td>Hardware Battlefield 2014</td>\n",
       "      <td>Contestant</td>\n",
       "      <td>Operating</td>\n",
       "      <td>1.8000</td>\n",
       "    </tr>\n",
       "    <tr>\n",
       "      <th>11</th>\n",
       "      <td>AdRocket</td>\n",
       "      <td>adrocket.com</td>\n",
       "      <td>$1M</td>\n",
       "      <td>TC50 2008</td>\n",
       "      <td>Contestant</td>\n",
       "      <td>Closed</td>\n",
       "      <td>1.0000</td>\n",
       "    </tr>\n",
       "    <tr>\n",
       "      <th>13</th>\n",
       "      <td>Agrilyst</td>\n",
       "      <td>agrilyst.com</td>\n",
       "      <td>$1M</td>\n",
       "      <td>Disrupt SF 2015</td>\n",
       "      <td>Winner</td>\n",
       "      <td>Operating</td>\n",
       "      <td>1.0000</td>\n",
       "    </tr>\n",
       "    <tr>\n",
       "      <th>14</th>\n",
       "      <td>Aiden</td>\n",
       "      <td>aiden.ai</td>\n",
       "      <td>$750K</td>\n",
       "      <td>Disrupt London 2016</td>\n",
       "      <td>Contestant</td>\n",
       "      <td>Operating</td>\n",
       "      <td>0.7500</td>\n",
       "    </tr>\n",
       "    <tr>\n",
       "      <th>15</th>\n",
       "      <td>AirBoxLab</td>\n",
       "      <td>foobot.io</td>\n",
       "      <td>$17.9K</td>\n",
       "      <td>Hardware Battlefield 2014</td>\n",
       "      <td>Contestant</td>\n",
       "      <td>Operating</td>\n",
       "      <td>0.0179</td>\n",
       "    </tr>\n",
       "    <tr>\n",
       "      <th>16</th>\n",
       "      <td>Aircall</td>\n",
       "      <td>aircall.io</td>\n",
       "      <td>$11.6M</td>\n",
       "      <td>Disrupt SF 2015</td>\n",
       "      <td>Contestant</td>\n",
       "      <td>Operating</td>\n",
       "      <td>11.6000</td>\n",
       "    </tr>\n",
       "    <tr>\n",
       "      <th>17</th>\n",
       "      <td>AirDroids</td>\n",
       "      <td>airdroids.com</td>\n",
       "      <td>$929.2K</td>\n",
       "      <td>Hardware Battlefield 2014</td>\n",
       "      <td>Contestant</td>\n",
       "      <td>Closed</td>\n",
       "      <td>0.9292</td>\n",
       "    </tr>\n",
       "    <tr>\n",
       "      <th>18</th>\n",
       "      <td>AirHelp</td>\n",
       "      <td>airhelp.com</td>\n",
       "      <td>$12.2M</td>\n",
       "      <td>Disrupt NYC 2014</td>\n",
       "      <td>Contestant</td>\n",
       "      <td>Operating</td>\n",
       "      <td>12.2000</td>\n",
       "    </tr>\n",
       "    <tr>\n",
       "      <th>20</th>\n",
       "      <td>Akoha</td>\n",
       "      <td>akoha.com</td>\n",
       "      <td>$1.9M</td>\n",
       "      <td>TC50 2008</td>\n",
       "      <td>Contestant</td>\n",
       "      <td>Closed</td>\n",
       "      <td>1.9000</td>\n",
       "    </tr>\n",
       "    <tr>\n",
       "      <th>22</th>\n",
       "      <td>Alicanto</td>\n",
       "      <td>alicanto.com</td>\n",
       "      <td>$4M</td>\n",
       "      <td>Disrupt SF 2012</td>\n",
       "      <td>Contestant</td>\n",
       "      <td>Operating</td>\n",
       "      <td>4.0000</td>\n",
       "    </tr>\n",
       "    <tr>\n",
       "      <th>27</th>\n",
       "      <td>Amen.</td>\n",
       "      <td>getamen.com</td>\n",
       "      <td>$3M</td>\n",
       "      <td>Disrupt SF 2011</td>\n",
       "      <td>Contestant</td>\n",
       "      <td>Acquired</td>\n",
       "      <td>3.0000</td>\n",
       "    </tr>\n",
       "    <tr>\n",
       "      <th>28</th>\n",
       "      <td>Angstro</td>\n",
       "      <td>angst.ro</td>\n",
       "      <td>$225K</td>\n",
       "      <td>TC50 2008</td>\n",
       "      <td>Contestant</td>\n",
       "      <td>Acquired</td>\n",
       "      <td>0.2250</td>\n",
       "    </tr>\n",
       "    <tr>\n",
       "      <th>31</th>\n",
       "      <td>Anyclip</td>\n",
       "      <td>anyclip.com</td>\n",
       "      <td>$24M</td>\n",
       "      <td>TC50 2009</td>\n",
       "      <td>Finalist</td>\n",
       "      <td>Operating</td>\n",
       "      <td>24.0000</td>\n",
       "    </tr>\n",
       "    <tr>\n",
       "      <th>32</th>\n",
       "      <td>App2you</td>\n",
       "      <td>app2you.com</td>\n",
       "      <td>$746K</td>\n",
       "      <td>TC40 2007</td>\n",
       "      <td>Contestant</td>\n",
       "      <td>Operating</td>\n",
       "      <td>0.7460</td>\n",
       "    </tr>\n",
       "    <tr>\n",
       "      <th>34</th>\n",
       "      <td>Appbistro</td>\n",
       "      <td>appbistro.com</td>\n",
       "      <td>$600K</td>\n",
       "      <td>Disrupt NYC 2010</td>\n",
       "      <td>Contestant</td>\n",
       "      <td>Closed</td>\n",
       "      <td>0.6000</td>\n",
       "    </tr>\n",
       "    <tr>\n",
       "      <th>35</th>\n",
       "      <td>AppChina</td>\n",
       "      <td>appchina.com</td>\n",
       "      <td>$7.1M</td>\n",
       "      <td>Disrupt Beijing 2011</td>\n",
       "      <td>Contestant</td>\n",
       "      <td>Operating</td>\n",
       "      <td>7.1000</td>\n",
       "    </tr>\n",
       "  </tbody>\n",
       "</table>\n",
       "</div>"
      ],
      "text/plain": [
       "         Startup          Product  Funding                      Event  \\\n",
       "1           3DLT         3dlt.com    $630K           Disrupt NYC 2013   \n",
       "3     3Dprintler   3dprintler.com      $1M            Disrupt NY 2016   \n",
       "5           5to1         5to1.com   $19.3M                  TC50 2009   \n",
       "6   8 Securities  8securities.com     $29M       Disrupt Beijing 2011   \n",
       "10    AdhereTech   adheretech.com    $1.8M  Hardware Battlefield 2014   \n",
       "11      AdRocket     adrocket.com      $1M                  TC50 2008   \n",
       "13      Agrilyst     agrilyst.com      $1M            Disrupt SF 2015   \n",
       "14         Aiden         aiden.ai    $750K        Disrupt London 2016   \n",
       "15     AirBoxLab        foobot.io   $17.9K  Hardware Battlefield 2014   \n",
       "16       Aircall       aircall.io   $11.6M            Disrupt SF 2015   \n",
       "17     AirDroids    airdroids.com  $929.2K  Hardware Battlefield 2014   \n",
       "18       AirHelp      airhelp.com   $12.2M           Disrupt NYC 2014   \n",
       "20         Akoha        akoha.com    $1.9M                  TC50 2008   \n",
       "22      Alicanto     alicanto.com      $4M            Disrupt SF 2012   \n",
       "27         Amen.      getamen.com      $3M            Disrupt SF 2011   \n",
       "28       Angstro         angst.ro    $225K                  TC50 2008   \n",
       "31       Anyclip      anyclip.com     $24M                  TC50 2009   \n",
       "32       App2you      app2you.com    $746K                  TC40 2007   \n",
       "34     Appbistro    appbistro.com    $600K           Disrupt NYC 2010   \n",
       "35      AppChina     appchina.com    $7.1M       Disrupt Beijing 2011   \n",
       "\n",
       "             Result OperatingState  Funding_in_Million  \n",
       "1        Contestant         Closed              0.6300  \n",
       "3   Audience choice      Operating              1.0000  \n",
       "5        Contestant       Acquired             19.3000  \n",
       "6          Finalist      Operating             29.0000  \n",
       "10       Contestant      Operating              1.8000  \n",
       "11       Contestant         Closed              1.0000  \n",
       "13           Winner      Operating              1.0000  \n",
       "14       Contestant      Operating              0.7500  \n",
       "15       Contestant      Operating              0.0179  \n",
       "16       Contestant      Operating             11.6000  \n",
       "17       Contestant         Closed              0.9292  \n",
       "18       Contestant      Operating             12.2000  \n",
       "20       Contestant         Closed              1.9000  \n",
       "22       Contestant      Operating              4.0000  \n",
       "27       Contestant       Acquired              3.0000  \n",
       "28       Contestant       Acquired              0.2250  \n",
       "31         Finalist      Operating             24.0000  \n",
       "32       Contestant      Operating              0.7460  \n",
       "34       Contestant         Closed              0.6000  \n",
       "35       Contestant      Operating              7.1000  "
      ]
     },
     "execution_count": 16,
     "metadata": {},
     "output_type": "execute_result"
    }
   ],
   "source": [
    "df1.head(20)"
   ]
  },
  {
   "cell_type": "code",
   "execution_count": 22,
   "id": "1a4e89a3",
   "metadata": {},
   "outputs": [
    {
     "data": {
      "application/vnd.plotly.v1+json": {
       "config": {
        "plotlyServerURL": "https://plot.ly"
       },
       "data": [
        {
         "alignmentgroup": "True",
         "hovertemplate": "variable=%{x}<br>value=%{y}<extra></extra>",
         "legendgroup": "",
         "marker": {
          "color": "#636efa"
         },
         "name": "",
         "notched": false,
         "offsetgroup": "",
         "orientation": "v",
         "showlegend": false,
         "type": "box",
         "x": [
          "Funding_in_Million",
          "Funding_in_Million",
          "Funding_in_Million",
          "Funding_in_Million",
          "Funding_in_Million",
          "Funding_in_Million",
          "Funding_in_Million",
          "Funding_in_Million",
          "Funding_in_Million",
          "Funding_in_Million",
          "Funding_in_Million",
          "Funding_in_Million",
          "Funding_in_Million",
          "Funding_in_Million",
          "Funding_in_Million",
          "Funding_in_Million",
          "Funding_in_Million",
          "Funding_in_Million",
          "Funding_in_Million",
          "Funding_in_Million",
          "Funding_in_Million",
          "Funding_in_Million",
          "Funding_in_Million",
          "Funding_in_Million",
          "Funding_in_Million",
          "Funding_in_Million",
          "Funding_in_Million",
          "Funding_in_Million",
          "Funding_in_Million",
          "Funding_in_Million",
          "Funding_in_Million",
          "Funding_in_Million",
          "Funding_in_Million",
          "Funding_in_Million",
          "Funding_in_Million",
          "Funding_in_Million",
          "Funding_in_Million",
          "Funding_in_Million",
          "Funding_in_Million",
          "Funding_in_Million",
          "Funding_in_Million",
          "Funding_in_Million",
          "Funding_in_Million",
          "Funding_in_Million",
          "Funding_in_Million",
          "Funding_in_Million",
          "Funding_in_Million",
          "Funding_in_Million",
          "Funding_in_Million",
          "Funding_in_Million",
          "Funding_in_Million",
          "Funding_in_Million",
          "Funding_in_Million",
          "Funding_in_Million",
          "Funding_in_Million",
          "Funding_in_Million",
          "Funding_in_Million",
          "Funding_in_Million",
          "Funding_in_Million",
          "Funding_in_Million",
          "Funding_in_Million",
          "Funding_in_Million",
          "Funding_in_Million",
          "Funding_in_Million",
          "Funding_in_Million",
          "Funding_in_Million",
          "Funding_in_Million",
          "Funding_in_Million",
          "Funding_in_Million",
          "Funding_in_Million",
          "Funding_in_Million",
          "Funding_in_Million",
          "Funding_in_Million",
          "Funding_in_Million",
          "Funding_in_Million",
          "Funding_in_Million",
          "Funding_in_Million",
          "Funding_in_Million",
          "Funding_in_Million",
          "Funding_in_Million",
          "Funding_in_Million",
          "Funding_in_Million",
          "Funding_in_Million",
          "Funding_in_Million",
          "Funding_in_Million",
          "Funding_in_Million",
          "Funding_in_Million",
          "Funding_in_Million",
          "Funding_in_Million",
          "Funding_in_Million",
          "Funding_in_Million",
          "Funding_in_Million",
          "Funding_in_Million",
          "Funding_in_Million",
          "Funding_in_Million",
          "Funding_in_Million",
          "Funding_in_Million",
          "Funding_in_Million",
          "Funding_in_Million",
          "Funding_in_Million",
          "Funding_in_Million",
          "Funding_in_Million",
          "Funding_in_Million",
          "Funding_in_Million",
          "Funding_in_Million",
          "Funding_in_Million",
          "Funding_in_Million",
          "Funding_in_Million",
          "Funding_in_Million",
          "Funding_in_Million",
          "Funding_in_Million",
          "Funding_in_Million",
          "Funding_in_Million",
          "Funding_in_Million",
          "Funding_in_Million",
          "Funding_in_Million",
          "Funding_in_Million",
          "Funding_in_Million",
          "Funding_in_Million",
          "Funding_in_Million",
          "Funding_in_Million",
          "Funding_in_Million",
          "Funding_in_Million",
          "Funding_in_Million",
          "Funding_in_Million",
          "Funding_in_Million",
          "Funding_in_Million",
          "Funding_in_Million",
          "Funding_in_Million",
          "Funding_in_Million",
          "Funding_in_Million",
          "Funding_in_Million",
          "Funding_in_Million",
          "Funding_in_Million",
          "Funding_in_Million",
          "Funding_in_Million",
          "Funding_in_Million",
          "Funding_in_Million",
          "Funding_in_Million",
          "Funding_in_Million",
          "Funding_in_Million",
          "Funding_in_Million",
          "Funding_in_Million",
          "Funding_in_Million",
          "Funding_in_Million",
          "Funding_in_Million",
          "Funding_in_Million",
          "Funding_in_Million",
          "Funding_in_Million",
          "Funding_in_Million",
          "Funding_in_Million",
          "Funding_in_Million",
          "Funding_in_Million",
          "Funding_in_Million",
          "Funding_in_Million",
          "Funding_in_Million",
          "Funding_in_Million",
          "Funding_in_Million",
          "Funding_in_Million",
          "Funding_in_Million",
          "Funding_in_Million",
          "Funding_in_Million",
          "Funding_in_Million",
          "Funding_in_Million",
          "Funding_in_Million",
          "Funding_in_Million",
          "Funding_in_Million",
          "Funding_in_Million",
          "Funding_in_Million",
          "Funding_in_Million",
          "Funding_in_Million",
          "Funding_in_Million",
          "Funding_in_Million",
          "Funding_in_Million",
          "Funding_in_Million",
          "Funding_in_Million",
          "Funding_in_Million",
          "Funding_in_Million",
          "Funding_in_Million",
          "Funding_in_Million",
          "Funding_in_Million",
          "Funding_in_Million",
          "Funding_in_Million",
          "Funding_in_Million",
          "Funding_in_Million",
          "Funding_in_Million",
          "Funding_in_Million",
          "Funding_in_Million",
          "Funding_in_Million",
          "Funding_in_Million",
          "Funding_in_Million",
          "Funding_in_Million",
          "Funding_in_Million",
          "Funding_in_Million",
          "Funding_in_Million",
          "Funding_in_Million",
          "Funding_in_Million",
          "Funding_in_Million",
          "Funding_in_Million",
          "Funding_in_Million",
          "Funding_in_Million",
          "Funding_in_Million",
          "Funding_in_Million",
          "Funding_in_Million",
          "Funding_in_Million",
          "Funding_in_Million",
          "Funding_in_Million",
          "Funding_in_Million",
          "Funding_in_Million",
          "Funding_in_Million",
          "Funding_in_Million",
          "Funding_in_Million",
          "Funding_in_Million",
          "Funding_in_Million",
          "Funding_in_Million",
          "Funding_in_Million",
          "Funding_in_Million",
          "Funding_in_Million",
          "Funding_in_Million",
          "Funding_in_Million",
          "Funding_in_Million",
          "Funding_in_Million",
          "Funding_in_Million",
          "Funding_in_Million",
          "Funding_in_Million",
          "Funding_in_Million",
          "Funding_in_Million",
          "Funding_in_Million",
          "Funding_in_Million",
          "Funding_in_Million",
          "Funding_in_Million",
          "Funding_in_Million",
          "Funding_in_Million",
          "Funding_in_Million",
          "Funding_in_Million",
          "Funding_in_Million",
          "Funding_in_Million",
          "Funding_in_Million",
          "Funding_in_Million",
          "Funding_in_Million",
          "Funding_in_Million",
          "Funding_in_Million",
          "Funding_in_Million",
          "Funding_in_Million",
          "Funding_in_Million",
          "Funding_in_Million",
          "Funding_in_Million",
          "Funding_in_Million",
          "Funding_in_Million",
          "Funding_in_Million",
          "Funding_in_Million",
          "Funding_in_Million",
          "Funding_in_Million",
          "Funding_in_Million",
          "Funding_in_Million",
          "Funding_in_Million",
          "Funding_in_Million",
          "Funding_in_Million",
          "Funding_in_Million",
          "Funding_in_Million",
          "Funding_in_Million",
          "Funding_in_Million",
          "Funding_in_Million",
          "Funding_in_Million",
          "Funding_in_Million",
          "Funding_in_Million",
          "Funding_in_Million",
          "Funding_in_Million",
          "Funding_in_Million",
          "Funding_in_Million",
          "Funding_in_Million",
          "Funding_in_Million",
          "Funding_in_Million",
          "Funding_in_Million",
          "Funding_in_Million",
          "Funding_in_Million",
          "Funding_in_Million",
          "Funding_in_Million",
          "Funding_in_Million",
          "Funding_in_Million",
          "Funding_in_Million",
          "Funding_in_Million",
          "Funding_in_Million",
          "Funding_in_Million",
          "Funding_in_Million",
          "Funding_in_Million",
          "Funding_in_Million",
          "Funding_in_Million",
          "Funding_in_Million",
          "Funding_in_Million",
          "Funding_in_Million",
          "Funding_in_Million",
          "Funding_in_Million",
          "Funding_in_Million",
          "Funding_in_Million",
          "Funding_in_Million",
          "Funding_in_Million",
          "Funding_in_Million",
          "Funding_in_Million",
          "Funding_in_Million",
          "Funding_in_Million",
          "Funding_in_Million",
          "Funding_in_Million",
          "Funding_in_Million",
          "Funding_in_Million",
          "Funding_in_Million",
          "Funding_in_Million",
          "Funding_in_Million",
          "Funding_in_Million",
          "Funding_in_Million",
          "Funding_in_Million",
          "Funding_in_Million",
          "Funding_in_Million",
          "Funding_in_Million",
          "Funding_in_Million",
          "Funding_in_Million",
          "Funding_in_Million",
          "Funding_in_Million",
          "Funding_in_Million",
          "Funding_in_Million",
          "Funding_in_Million",
          "Funding_in_Million",
          "Funding_in_Million",
          "Funding_in_Million",
          "Funding_in_Million",
          "Funding_in_Million",
          "Funding_in_Million",
          "Funding_in_Million",
          "Funding_in_Million",
          "Funding_in_Million",
          "Funding_in_Million",
          "Funding_in_Million",
          "Funding_in_Million",
          "Funding_in_Million",
          "Funding_in_Million",
          "Funding_in_Million",
          "Funding_in_Million",
          "Funding_in_Million",
          "Funding_in_Million",
          "Funding_in_Million",
          "Funding_in_Million",
          "Funding_in_Million",
          "Funding_in_Million",
          "Funding_in_Million",
          "Funding_in_Million",
          "Funding_in_Million",
          "Funding_in_Million",
          "Funding_in_Million",
          "Funding_in_Million",
          "Funding_in_Million",
          "Funding_in_Million",
          "Funding_in_Million",
          "Funding_in_Million",
          "Funding_in_Million",
          "Funding_in_Million",
          "Funding_in_Million",
          "Funding_in_Million",
          "Funding_in_Million",
          "Funding_in_Million",
          "Funding_in_Million",
          "Funding_in_Million",
          "Funding_in_Million",
          "Funding_in_Million",
          "Funding_in_Million",
          "Funding_in_Million",
          "Funding_in_Million",
          "Funding_in_Million",
          "Funding_in_Million",
          "Funding_in_Million",
          "Funding_in_Million",
          "Funding_in_Million",
          "Funding_in_Million",
          "Funding_in_Million",
          "Funding_in_Million",
          "Funding_in_Million",
          "Funding_in_Million",
          "Funding_in_Million",
          "Funding_in_Million",
          "Funding_in_Million",
          "Funding_in_Million",
          "Funding_in_Million",
          "Funding_in_Million",
          "Funding_in_Million",
          "Funding_in_Million",
          "Funding_in_Million",
          "Funding_in_Million",
          "Funding_in_Million",
          "Funding_in_Million",
          "Funding_in_Million",
          "Funding_in_Million",
          "Funding_in_Million",
          "Funding_in_Million",
          "Funding_in_Million",
          "Funding_in_Million",
          "Funding_in_Million",
          "Funding_in_Million",
          "Funding_in_Million",
          "Funding_in_Million",
          "Funding_in_Million",
          "Funding_in_Million",
          "Funding_in_Million",
          "Funding_in_Million",
          "Funding_in_Million",
          "Funding_in_Million",
          "Funding_in_Million",
          "Funding_in_Million",
          "Funding_in_Million",
          "Funding_in_Million",
          "Funding_in_Million",
          "Funding_in_Million",
          "Funding_in_Million",
          "Funding_in_Million",
          "Funding_in_Million",
          "Funding_in_Million",
          "Funding_in_Million",
          "Funding_in_Million",
          "Funding_in_Million",
          "Funding_in_Million",
          "Funding_in_Million",
          "Funding_in_Million",
          "Funding_in_Million",
          "Funding_in_Million",
          "Funding_in_Million",
          "Funding_in_Million",
          "Funding_in_Million",
          "Funding_in_Million",
          "Funding_in_Million",
          "Funding_in_Million",
          "Funding_in_Million",
          "Funding_in_Million",
          "Funding_in_Million",
          "Funding_in_Million",
          "Funding_in_Million",
          "Funding_in_Million",
          "Funding_in_Million",
          "Funding_in_Million",
          "Funding_in_Million",
          "Funding_in_Million",
          "Funding_in_Million",
          "Funding_in_Million",
          "Funding_in_Million",
          "Funding_in_Million",
          "Funding_in_Million",
          "Funding_in_Million",
          "Funding_in_Million",
          "Funding_in_Million"
         ],
         "x0": " ",
         "xaxis": "x",
         "y": [
          0.63,
          1,
          19.3,
          29,
          1.8,
          1,
          1,
          0.75,
          0.0179,
          11.6,
          0.9292,
          12.2,
          1.9,
          4,
          3,
          0.225,
          24,
          0.746,
          0.6,
          7.1,
          4.5,
          50.9,
          8.3,
          4,
          12.3,
          1,
          0.19,
          40,
          0.52,
          2.9,
          0.32,
          1.7,
          0.02,
          205,
          16.5,
          2.8,
          0.125,
          0.35,
          20.8,
          0.675,
          6.5,
          2,
          0.118,
          4,
          20.5,
          7.2,
          2.3,
          0.212,
          7,
          8.1,
          8.5,
          0.325,
          0.02,
          0.15,
          5,
          0.06,
          8.8,
          0.12,
          2,
          2.3,
          3.1,
          5.5,
          4.5,
          2.2,
          0.496,
          1.4,
          0.35,
          32.5,
          19,
          0.75,
          0.475,
          182.1,
          6.7,
          0.848,
          2,
          1.3,
          2,
          12,
          2.6,
          0.4115,
          0.925,
          8.1,
          35.4,
          3,
          38,
          37.1,
          6.8,
          72,
          64,
          12.5,
          0.9,
          0.1,
          7.3,
          0.1,
          1.3,
          0.983,
          9.7,
          4,
          5.4,
          0.16,
          0.3,
          0.02,
          1700,
          10.1,
          0.485,
          8,
          3,
          3,
          4.3,
          0.12,
          10,
          34.6,
          1,
          16.3,
          5,
          2.4,
          0.65,
          35.5,
          15.4,
          18.2,
          0.1,
          30.1,
          26,
          1.2,
          2.3,
          0.7906,
          0.06,
          66,
          6.5,
          28.3,
          6.4,
          8.2,
          1.7,
          0.005,
          10,
          0.3105,
          11.3,
          3.8,
          0.7,
          12.5,
          103,
          1.2,
          1.9,
          0.3346,
          25.9,
          0.7559,
          36.5,
          1,
          1.4,
          1.7,
          14.2,
          0.5,
          0.1915,
          44.7,
          0.5661,
          0.3,
          6.3,
          24.2,
          10.7,
          1.3,
          22,
          12,
          5,
          4.5,
          1.2,
          7.2,
          12.5,
          1.1,
          3.2,
          0.15,
          0.195,
          1,
          16.3,
          14.1,
          0.5,
          18.2,
          0.05,
          0.745,
          2,
          0.457,
          3,
          0.355,
          0.6962999999999999,
          122.4,
          0.42160000000000003,
          1,
          1.3,
          34.9,
          1.2,
          67.8,
          3.8,
          11.7,
          166.1,
          10,
          1.6,
          1.6,
          4.4,
          1.3,
          1.9,
          1.8,
          1.3,
          3,
          0.717,
          5.8,
          4.1,
          42.1,
          2,
          1,
          69,
          0.05,
          10.6,
          2.2,
          65.1,
          1.3,
          2,
          2,
          0.875,
          6.7,
          2.3,
          0.25,
          0.35,
          25.1,
          0.635,
          3.2,
          0.3,
          9.2,
          1.1,
          0.8,
          7.3,
          9.4,
          31.8,
          3,
          0.9,
          2.6,
          4,
          1.2,
          3.3,
          9.5,
          3.1,
          3.5,
          1.2,
          0.05,
          0.275,
          3.5,
          0.1,
          1.9,
          2.2,
          2.8,
          13.2,
          0.275,
          1.4,
          10.7,
          0.1,
          3.3,
          1.3,
          0.5,
          1.2,
          12.8,
          5.3,
          1,
          37,
          3.9,
          0.6514,
          38.5,
          25.5,
          3.8,
          0.892,
          24,
          3.4,
          7.2,
          1.2,
          2.2,
          1.5,
          0.52,
          0.0795,
          0.156,
          0.05,
          4.8,
          0.755,
          0.525,
          18.5,
          3.5,
          0.5,
          1.1,
          2.2,
          1.5,
          278,
          20.5,
          0.5,
          3.6,
          1.4,
          24,
          1.7,
          2.8,
          63,
          2.2,
          0.12,
          0.948,
          0.15,
          10.5,
          3.5,
          0.02,
          7.4,
          6,
          0.020300000000000002,
          0.1,
          0.765,
          0.145,
          0.02,
          7,
          5,
          25,
          1.2,
          0.956,
          0.25,
          3,
          7.7,
          1.5,
          160,
          0.8,
          1.4,
          0.59,
          2,
          6,
          3.4,
          0.1,
          0.8553999999999999,
          0.165,
          0.15,
          16.2,
          18,
          3.8,
          4.1,
          1.1,
          1.4,
          0.35,
          6,
          1.5,
          0.44,
          0.6844,
          0.1298,
          0.118,
          0.7,
          3.5,
          0.02,
          2.8,
          18,
          1,
          2.3,
          2.6,
          0.482,
          1,
          0.2,
          5,
          2.3,
          1.3,
          0.6,
          2,
          2.1,
          0.12,
          0.023,
          1.5,
          2.4,
          0.6,
          5.8,
          40,
          1.8,
          0.5,
          0.485,
          0.863,
          15.6,
          47.4,
          0.32380000000000003,
          0.6,
          5.1,
          24.5,
          1,
          0.35,
          0.3,
          0.65,
          5.3,
          0.532,
          4.2,
          6.3,
          1.5,
          1.9,
          0.28,
          9.8,
          16,
          25,
          0.093,
          0.088,
          10.3,
          13.1,
          5.3,
          332.4,
          7.8,
          14.5,
          3,
          1,
          35,
          0.5,
          2,
          168.8,
          2.8,
          1.6,
          1.1,
          0.8,
          0.8302,
          28,
          12,
          1,
          6.5,
          0.026699999999999998,
          4.5,
          2.3,
          0.055,
          7.1,
          30.8,
          10,
          0.275,
          0.0857,
          1.4,
          2.1,
          1,
          2.5,
          2,
          0.05,
          12.2,
          17.4,
          15.8,
          0.028,
          41.8,
          142,
          10,
          0.9,
          117.8,
          26,
          28,
          62.1,
          583.6,
          8,
          1,
          223,
          3.4,
          31.5
         ],
         "y0": " ",
         "yaxis": "y"
        }
       ],
       "layout": {
        "boxmode": "group",
        "legend": {
         "tracegroupgap": 0
        },
        "margin": {
         "t": 60
        },
        "template": {
         "data": {
          "bar": [
           {
            "error_x": {
             "color": "#2a3f5f"
            },
            "error_y": {
             "color": "#2a3f5f"
            },
            "marker": {
             "line": {
              "color": "#E5ECF6",
              "width": 0.5
             },
             "pattern": {
              "fillmode": "overlay",
              "size": 10,
              "solidity": 0.2
             }
            },
            "type": "bar"
           }
          ],
          "barpolar": [
           {
            "marker": {
             "line": {
              "color": "#E5ECF6",
              "width": 0.5
             },
             "pattern": {
              "fillmode": "overlay",
              "size": 10,
              "solidity": 0.2
             }
            },
            "type": "barpolar"
           }
          ],
          "carpet": [
           {
            "aaxis": {
             "endlinecolor": "#2a3f5f",
             "gridcolor": "white",
             "linecolor": "white",
             "minorgridcolor": "white",
             "startlinecolor": "#2a3f5f"
            },
            "baxis": {
             "endlinecolor": "#2a3f5f",
             "gridcolor": "white",
             "linecolor": "white",
             "minorgridcolor": "white",
             "startlinecolor": "#2a3f5f"
            },
            "type": "carpet"
           }
          ],
          "choropleth": [
           {
            "colorbar": {
             "outlinewidth": 0,
             "ticks": ""
            },
            "type": "choropleth"
           }
          ],
          "contour": [
           {
            "colorbar": {
             "outlinewidth": 0,
             "ticks": ""
            },
            "colorscale": [
             [
              0,
              "#0d0887"
             ],
             [
              0.1111111111111111,
              "#46039f"
             ],
             [
              0.2222222222222222,
              "#7201a8"
             ],
             [
              0.3333333333333333,
              "#9c179e"
             ],
             [
              0.4444444444444444,
              "#bd3786"
             ],
             [
              0.5555555555555556,
              "#d8576b"
             ],
             [
              0.6666666666666666,
              "#ed7953"
             ],
             [
              0.7777777777777778,
              "#fb9f3a"
             ],
             [
              0.8888888888888888,
              "#fdca26"
             ],
             [
              1,
              "#f0f921"
             ]
            ],
            "type": "contour"
           }
          ],
          "contourcarpet": [
           {
            "colorbar": {
             "outlinewidth": 0,
             "ticks": ""
            },
            "type": "contourcarpet"
           }
          ],
          "heatmap": [
           {
            "colorbar": {
             "outlinewidth": 0,
             "ticks": ""
            },
            "colorscale": [
             [
              0,
              "#0d0887"
             ],
             [
              0.1111111111111111,
              "#46039f"
             ],
             [
              0.2222222222222222,
              "#7201a8"
             ],
             [
              0.3333333333333333,
              "#9c179e"
             ],
             [
              0.4444444444444444,
              "#bd3786"
             ],
             [
              0.5555555555555556,
              "#d8576b"
             ],
             [
              0.6666666666666666,
              "#ed7953"
             ],
             [
              0.7777777777777778,
              "#fb9f3a"
             ],
             [
              0.8888888888888888,
              "#fdca26"
             ],
             [
              1,
              "#f0f921"
             ]
            ],
            "type": "heatmap"
           }
          ],
          "heatmapgl": [
           {
            "colorbar": {
             "outlinewidth": 0,
             "ticks": ""
            },
            "colorscale": [
             [
              0,
              "#0d0887"
             ],
             [
              0.1111111111111111,
              "#46039f"
             ],
             [
              0.2222222222222222,
              "#7201a8"
             ],
             [
              0.3333333333333333,
              "#9c179e"
             ],
             [
              0.4444444444444444,
              "#bd3786"
             ],
             [
              0.5555555555555556,
              "#d8576b"
             ],
             [
              0.6666666666666666,
              "#ed7953"
             ],
             [
              0.7777777777777778,
              "#fb9f3a"
             ],
             [
              0.8888888888888888,
              "#fdca26"
             ],
             [
              1,
              "#f0f921"
             ]
            ],
            "type": "heatmapgl"
           }
          ],
          "histogram": [
           {
            "marker": {
             "pattern": {
              "fillmode": "overlay",
              "size": 10,
              "solidity": 0.2
             }
            },
            "type": "histogram"
           }
          ],
          "histogram2d": [
           {
            "colorbar": {
             "outlinewidth": 0,
             "ticks": ""
            },
            "colorscale": [
             [
              0,
              "#0d0887"
             ],
             [
              0.1111111111111111,
              "#46039f"
             ],
             [
              0.2222222222222222,
              "#7201a8"
             ],
             [
              0.3333333333333333,
              "#9c179e"
             ],
             [
              0.4444444444444444,
              "#bd3786"
             ],
             [
              0.5555555555555556,
              "#d8576b"
             ],
             [
              0.6666666666666666,
              "#ed7953"
             ],
             [
              0.7777777777777778,
              "#fb9f3a"
             ],
             [
              0.8888888888888888,
              "#fdca26"
             ],
             [
              1,
              "#f0f921"
             ]
            ],
            "type": "histogram2d"
           }
          ],
          "histogram2dcontour": [
           {
            "colorbar": {
             "outlinewidth": 0,
             "ticks": ""
            },
            "colorscale": [
             [
              0,
              "#0d0887"
             ],
             [
              0.1111111111111111,
              "#46039f"
             ],
             [
              0.2222222222222222,
              "#7201a8"
             ],
             [
              0.3333333333333333,
              "#9c179e"
             ],
             [
              0.4444444444444444,
              "#bd3786"
             ],
             [
              0.5555555555555556,
              "#d8576b"
             ],
             [
              0.6666666666666666,
              "#ed7953"
             ],
             [
              0.7777777777777778,
              "#fb9f3a"
             ],
             [
              0.8888888888888888,
              "#fdca26"
             ],
             [
              1,
              "#f0f921"
             ]
            ],
            "type": "histogram2dcontour"
           }
          ],
          "mesh3d": [
           {
            "colorbar": {
             "outlinewidth": 0,
             "ticks": ""
            },
            "type": "mesh3d"
           }
          ],
          "parcoords": [
           {
            "line": {
             "colorbar": {
              "outlinewidth": 0,
              "ticks": ""
             }
            },
            "type": "parcoords"
           }
          ],
          "pie": [
           {
            "automargin": true,
            "type": "pie"
           }
          ],
          "scatter": [
           {
            "fillpattern": {
             "fillmode": "overlay",
             "size": 10,
             "solidity": 0.2
            },
            "type": "scatter"
           }
          ],
          "scatter3d": [
           {
            "line": {
             "colorbar": {
              "outlinewidth": 0,
              "ticks": ""
             }
            },
            "marker": {
             "colorbar": {
              "outlinewidth": 0,
              "ticks": ""
             }
            },
            "type": "scatter3d"
           }
          ],
          "scattercarpet": [
           {
            "marker": {
             "colorbar": {
              "outlinewidth": 0,
              "ticks": ""
             }
            },
            "type": "scattercarpet"
           }
          ],
          "scattergeo": [
           {
            "marker": {
             "colorbar": {
              "outlinewidth": 0,
              "ticks": ""
             }
            },
            "type": "scattergeo"
           }
          ],
          "scattergl": [
           {
            "marker": {
             "colorbar": {
              "outlinewidth": 0,
              "ticks": ""
             }
            },
            "type": "scattergl"
           }
          ],
          "scattermapbox": [
           {
            "marker": {
             "colorbar": {
              "outlinewidth": 0,
              "ticks": ""
             }
            },
            "type": "scattermapbox"
           }
          ],
          "scatterpolar": [
           {
            "marker": {
             "colorbar": {
              "outlinewidth": 0,
              "ticks": ""
             }
            },
            "type": "scatterpolar"
           }
          ],
          "scatterpolargl": [
           {
            "marker": {
             "colorbar": {
              "outlinewidth": 0,
              "ticks": ""
             }
            },
            "type": "scatterpolargl"
           }
          ],
          "scatterternary": [
           {
            "marker": {
             "colorbar": {
              "outlinewidth": 0,
              "ticks": ""
             }
            },
            "type": "scatterternary"
           }
          ],
          "surface": [
           {
            "colorbar": {
             "outlinewidth": 0,
             "ticks": ""
            },
            "colorscale": [
             [
              0,
              "#0d0887"
             ],
             [
              0.1111111111111111,
              "#46039f"
             ],
             [
              0.2222222222222222,
              "#7201a8"
             ],
             [
              0.3333333333333333,
              "#9c179e"
             ],
             [
              0.4444444444444444,
              "#bd3786"
             ],
             [
              0.5555555555555556,
              "#d8576b"
             ],
             [
              0.6666666666666666,
              "#ed7953"
             ],
             [
              0.7777777777777778,
              "#fb9f3a"
             ],
             [
              0.8888888888888888,
              "#fdca26"
             ],
             [
              1,
              "#f0f921"
             ]
            ],
            "type": "surface"
           }
          ],
          "table": [
           {
            "cells": {
             "fill": {
              "color": "#EBF0F8"
             },
             "line": {
              "color": "white"
             }
            },
            "header": {
             "fill": {
              "color": "#C8D4E3"
             },
             "line": {
              "color": "white"
             }
            },
            "type": "table"
           }
          ]
         },
         "layout": {
          "annotationdefaults": {
           "arrowcolor": "#2a3f5f",
           "arrowhead": 0,
           "arrowwidth": 1
          },
          "autotypenumbers": "strict",
          "coloraxis": {
           "colorbar": {
            "outlinewidth": 0,
            "ticks": ""
           }
          },
          "colorscale": {
           "diverging": [
            [
             0,
             "#8e0152"
            ],
            [
             0.1,
             "#c51b7d"
            ],
            [
             0.2,
             "#de77ae"
            ],
            [
             0.3,
             "#f1b6da"
            ],
            [
             0.4,
             "#fde0ef"
            ],
            [
             0.5,
             "#f7f7f7"
            ],
            [
             0.6,
             "#e6f5d0"
            ],
            [
             0.7,
             "#b8e186"
            ],
            [
             0.8,
             "#7fbc41"
            ],
            [
             0.9,
             "#4d9221"
            ],
            [
             1,
             "#276419"
            ]
           ],
           "sequential": [
            [
             0,
             "#0d0887"
            ],
            [
             0.1111111111111111,
             "#46039f"
            ],
            [
             0.2222222222222222,
             "#7201a8"
            ],
            [
             0.3333333333333333,
             "#9c179e"
            ],
            [
             0.4444444444444444,
             "#bd3786"
            ],
            [
             0.5555555555555556,
             "#d8576b"
            ],
            [
             0.6666666666666666,
             "#ed7953"
            ],
            [
             0.7777777777777778,
             "#fb9f3a"
            ],
            [
             0.8888888888888888,
             "#fdca26"
            ],
            [
             1,
             "#f0f921"
            ]
           ],
           "sequentialminus": [
            [
             0,
             "#0d0887"
            ],
            [
             0.1111111111111111,
             "#46039f"
            ],
            [
             0.2222222222222222,
             "#7201a8"
            ],
            [
             0.3333333333333333,
             "#9c179e"
            ],
            [
             0.4444444444444444,
             "#bd3786"
            ],
            [
             0.5555555555555556,
             "#d8576b"
            ],
            [
             0.6666666666666666,
             "#ed7953"
            ],
            [
             0.7777777777777778,
             "#fb9f3a"
            ],
            [
             0.8888888888888888,
             "#fdca26"
            ],
            [
             1,
             "#f0f921"
            ]
           ]
          },
          "colorway": [
           "#636efa",
           "#EF553B",
           "#00cc96",
           "#ab63fa",
           "#FFA15A",
           "#19d3f3",
           "#FF6692",
           "#B6E880",
           "#FF97FF",
           "#FECB52"
          ],
          "font": {
           "color": "#2a3f5f"
          },
          "geo": {
           "bgcolor": "white",
           "lakecolor": "white",
           "landcolor": "#E5ECF6",
           "showlakes": true,
           "showland": true,
           "subunitcolor": "white"
          },
          "hoverlabel": {
           "align": "left"
          },
          "hovermode": "closest",
          "mapbox": {
           "style": "light"
          },
          "paper_bgcolor": "white",
          "plot_bgcolor": "#E5ECF6",
          "polar": {
           "angularaxis": {
            "gridcolor": "white",
            "linecolor": "white",
            "ticks": ""
           },
           "bgcolor": "#E5ECF6",
           "radialaxis": {
            "gridcolor": "white",
            "linecolor": "white",
            "ticks": ""
           }
          },
          "scene": {
           "xaxis": {
            "backgroundcolor": "#E5ECF6",
            "gridcolor": "white",
            "gridwidth": 2,
            "linecolor": "white",
            "showbackground": true,
            "ticks": "",
            "zerolinecolor": "white"
           },
           "yaxis": {
            "backgroundcolor": "#E5ECF6",
            "gridcolor": "white",
            "gridwidth": 2,
            "linecolor": "white",
            "showbackground": true,
            "ticks": "",
            "zerolinecolor": "white"
           },
           "zaxis": {
            "backgroundcolor": "#E5ECF6",
            "gridcolor": "white",
            "gridwidth": 2,
            "linecolor": "white",
            "showbackground": true,
            "ticks": "",
            "zerolinecolor": "white"
           }
          },
          "shapedefaults": {
           "line": {
            "color": "#2a3f5f"
           }
          },
          "ternary": {
           "aaxis": {
            "gridcolor": "white",
            "linecolor": "white",
            "ticks": ""
           },
           "baxis": {
            "gridcolor": "white",
            "linecolor": "white",
            "ticks": ""
           },
           "bgcolor": "#E5ECF6",
           "caxis": {
            "gridcolor": "white",
            "linecolor": "white",
            "ticks": ""
           }
          },
          "title": {
           "x": 0.05
          },
          "xaxis": {
           "automargin": true,
           "gridcolor": "white",
           "linecolor": "white",
           "ticks": "",
           "title": {
            "standoff": 15
           },
           "zerolinecolor": "white",
           "zerolinewidth": 2
          },
          "yaxis": {
           "automargin": true,
           "gridcolor": "white",
           "linecolor": "white",
           "ticks": "",
           "title": {
            "standoff": 15
           },
           "zerolinecolor": "white",
           "zerolinewidth": 2
          }
         }
        },
        "xaxis": {
         "anchor": "y",
         "domain": [
          0,
          1
         ],
         "title": {
          "text": "variable"
         }
        },
        "yaxis": {
         "anchor": "x",
         "domain": [
          0,
          1
         ],
         "title": {
          "text": "value"
         }
        }
       }
      },
      "text/html": [
       "<div>                            <div id=\"6df50f65-a91e-43df-98fc-2afdda6c11cc\" class=\"plotly-graph-div\" style=\"height:525px; width:100%;\"></div>            <script type=\"text/javascript\">                require([\"plotly\"], function(Plotly) {                    window.PLOTLYENV=window.PLOTLYENV || {};                                    if (document.getElementById(\"6df50f65-a91e-43df-98fc-2afdda6c11cc\")) {                    Plotly.newPlot(                        \"6df50f65-a91e-43df-98fc-2afdda6c11cc\",                        [{\"alignmentgroup\":\"True\",\"hovertemplate\":\"variable=%{x}<br>value=%{y}<extra></extra>\",\"legendgroup\":\"\",\"marker\":{\"color\":\"#636efa\"},\"name\":\"\",\"notched\":false,\"offsetgroup\":\"\",\"orientation\":\"v\",\"showlegend\":false,\"x\":[\"Funding_in_Million\",\"Funding_in_Million\",\"Funding_in_Million\",\"Funding_in_Million\",\"Funding_in_Million\",\"Funding_in_Million\",\"Funding_in_Million\",\"Funding_in_Million\",\"Funding_in_Million\",\"Funding_in_Million\",\"Funding_in_Million\",\"Funding_in_Million\",\"Funding_in_Million\",\"Funding_in_Million\",\"Funding_in_Million\",\"Funding_in_Million\",\"Funding_in_Million\",\"Funding_in_Million\",\"Funding_in_Million\",\"Funding_in_Million\",\"Funding_in_Million\",\"Funding_in_Million\",\"Funding_in_Million\",\"Funding_in_Million\",\"Funding_in_Million\",\"Funding_in_Million\",\"Funding_in_Million\",\"Funding_in_Million\",\"Funding_in_Million\",\"Funding_in_Million\",\"Funding_in_Million\",\"Funding_in_Million\",\"Funding_in_Million\",\"Funding_in_Million\",\"Funding_in_Million\",\"Funding_in_Million\",\"Funding_in_Million\",\"Funding_in_Million\",\"Funding_in_Million\",\"Funding_in_Million\",\"Funding_in_Million\",\"Funding_in_Million\",\"Funding_in_Million\",\"Funding_in_Million\",\"Funding_in_Million\",\"Funding_in_Million\",\"Funding_in_Million\",\"Funding_in_Million\",\"Funding_in_Million\",\"Funding_in_Million\",\"Funding_in_Million\",\"Funding_in_Million\",\"Funding_in_Million\",\"Funding_in_Million\",\"Funding_in_Million\",\"Funding_in_Million\",\"Funding_in_Million\",\"Funding_in_Million\",\"Funding_in_Million\",\"Funding_in_Million\",\"Funding_in_Million\",\"Funding_in_Million\",\"Funding_in_Million\",\"Funding_in_Million\",\"Funding_in_Million\",\"Funding_in_Million\",\"Funding_in_Million\",\"Funding_in_Million\",\"Funding_in_Million\",\"Funding_in_Million\",\"Funding_in_Million\",\"Funding_in_Million\",\"Funding_in_Million\",\"Funding_in_Million\",\"Funding_in_Million\",\"Funding_in_Million\",\"Funding_in_Million\",\"Funding_in_Million\",\"Funding_in_Million\",\"Funding_in_Million\",\"Funding_in_Million\",\"Funding_in_Million\",\"Funding_in_Million\",\"Funding_in_Million\",\"Funding_in_Million\",\"Funding_in_Million\",\"Funding_in_Million\",\"Funding_in_Million\",\"Funding_in_Million\",\"Funding_in_Million\",\"Funding_in_Million\",\"Funding_in_Million\",\"Funding_in_Million\",\"Funding_in_Million\",\"Funding_in_Million\",\"Funding_in_Million\",\"Funding_in_Million\",\"Funding_in_Million\",\"Funding_in_Million\",\"Funding_in_Million\",\"Funding_in_Million\",\"Funding_in_Million\",\"Funding_in_Million\",\"Funding_in_Million\",\"Funding_in_Million\",\"Funding_in_Million\",\"Funding_in_Million\",\"Funding_in_Million\",\"Funding_in_Million\",\"Funding_in_Million\",\"Funding_in_Million\",\"Funding_in_Million\",\"Funding_in_Million\",\"Funding_in_Million\",\"Funding_in_Million\",\"Funding_in_Million\",\"Funding_in_Million\",\"Funding_in_Million\",\"Funding_in_Million\",\"Funding_in_Million\",\"Funding_in_Million\",\"Funding_in_Million\",\"Funding_in_Million\",\"Funding_in_Million\",\"Funding_in_Million\",\"Funding_in_Million\",\"Funding_in_Million\",\"Funding_in_Million\",\"Funding_in_Million\",\"Funding_in_Million\",\"Funding_in_Million\",\"Funding_in_Million\",\"Funding_in_Million\",\"Funding_in_Million\",\"Funding_in_Million\",\"Funding_in_Million\",\"Funding_in_Million\",\"Funding_in_Million\",\"Funding_in_Million\",\"Funding_in_Million\",\"Funding_in_Million\",\"Funding_in_Million\",\"Funding_in_Million\",\"Funding_in_Million\",\"Funding_in_Million\",\"Funding_in_Million\",\"Funding_in_Million\",\"Funding_in_Million\",\"Funding_in_Million\",\"Funding_in_Million\",\"Funding_in_Million\",\"Funding_in_Million\",\"Funding_in_Million\",\"Funding_in_Million\",\"Funding_in_Million\",\"Funding_in_Million\",\"Funding_in_Million\",\"Funding_in_Million\",\"Funding_in_Million\",\"Funding_in_Million\",\"Funding_in_Million\",\"Funding_in_Million\",\"Funding_in_Million\",\"Funding_in_Million\",\"Funding_in_Million\",\"Funding_in_Million\",\"Funding_in_Million\",\"Funding_in_Million\",\"Funding_in_Million\",\"Funding_in_Million\",\"Funding_in_Million\",\"Funding_in_Million\",\"Funding_in_Million\",\"Funding_in_Million\",\"Funding_in_Million\",\"Funding_in_Million\",\"Funding_in_Million\",\"Funding_in_Million\",\"Funding_in_Million\",\"Funding_in_Million\",\"Funding_in_Million\",\"Funding_in_Million\",\"Funding_in_Million\",\"Funding_in_Million\",\"Funding_in_Million\",\"Funding_in_Million\",\"Funding_in_Million\",\"Funding_in_Million\",\"Funding_in_Million\",\"Funding_in_Million\",\"Funding_in_Million\",\"Funding_in_Million\",\"Funding_in_Million\",\"Funding_in_Million\",\"Funding_in_Million\",\"Funding_in_Million\",\"Funding_in_Million\",\"Funding_in_Million\",\"Funding_in_Million\",\"Funding_in_Million\",\"Funding_in_Million\",\"Funding_in_Million\",\"Funding_in_Million\",\"Funding_in_Million\",\"Funding_in_Million\",\"Funding_in_Million\",\"Funding_in_Million\",\"Funding_in_Million\",\"Funding_in_Million\",\"Funding_in_Million\",\"Funding_in_Million\",\"Funding_in_Million\",\"Funding_in_Million\",\"Funding_in_Million\",\"Funding_in_Million\",\"Funding_in_Million\",\"Funding_in_Million\",\"Funding_in_Million\",\"Funding_in_Million\",\"Funding_in_Million\",\"Funding_in_Million\",\"Funding_in_Million\",\"Funding_in_Million\",\"Funding_in_Million\",\"Funding_in_Million\",\"Funding_in_Million\",\"Funding_in_Million\",\"Funding_in_Million\",\"Funding_in_Million\",\"Funding_in_Million\",\"Funding_in_Million\",\"Funding_in_Million\",\"Funding_in_Million\",\"Funding_in_Million\",\"Funding_in_Million\",\"Funding_in_Million\",\"Funding_in_Million\",\"Funding_in_Million\",\"Funding_in_Million\",\"Funding_in_Million\",\"Funding_in_Million\",\"Funding_in_Million\",\"Funding_in_Million\",\"Funding_in_Million\",\"Funding_in_Million\",\"Funding_in_Million\",\"Funding_in_Million\",\"Funding_in_Million\",\"Funding_in_Million\",\"Funding_in_Million\",\"Funding_in_Million\",\"Funding_in_Million\",\"Funding_in_Million\",\"Funding_in_Million\",\"Funding_in_Million\",\"Funding_in_Million\",\"Funding_in_Million\",\"Funding_in_Million\",\"Funding_in_Million\",\"Funding_in_Million\",\"Funding_in_Million\",\"Funding_in_Million\",\"Funding_in_Million\",\"Funding_in_Million\",\"Funding_in_Million\",\"Funding_in_Million\",\"Funding_in_Million\",\"Funding_in_Million\",\"Funding_in_Million\",\"Funding_in_Million\",\"Funding_in_Million\",\"Funding_in_Million\",\"Funding_in_Million\",\"Funding_in_Million\",\"Funding_in_Million\",\"Funding_in_Million\",\"Funding_in_Million\",\"Funding_in_Million\",\"Funding_in_Million\",\"Funding_in_Million\",\"Funding_in_Million\",\"Funding_in_Million\",\"Funding_in_Million\",\"Funding_in_Million\",\"Funding_in_Million\",\"Funding_in_Million\",\"Funding_in_Million\",\"Funding_in_Million\",\"Funding_in_Million\",\"Funding_in_Million\",\"Funding_in_Million\",\"Funding_in_Million\",\"Funding_in_Million\",\"Funding_in_Million\",\"Funding_in_Million\",\"Funding_in_Million\",\"Funding_in_Million\",\"Funding_in_Million\",\"Funding_in_Million\",\"Funding_in_Million\",\"Funding_in_Million\",\"Funding_in_Million\",\"Funding_in_Million\",\"Funding_in_Million\",\"Funding_in_Million\",\"Funding_in_Million\",\"Funding_in_Million\",\"Funding_in_Million\",\"Funding_in_Million\",\"Funding_in_Million\",\"Funding_in_Million\",\"Funding_in_Million\",\"Funding_in_Million\",\"Funding_in_Million\",\"Funding_in_Million\",\"Funding_in_Million\",\"Funding_in_Million\",\"Funding_in_Million\",\"Funding_in_Million\",\"Funding_in_Million\",\"Funding_in_Million\",\"Funding_in_Million\",\"Funding_in_Million\",\"Funding_in_Million\",\"Funding_in_Million\",\"Funding_in_Million\",\"Funding_in_Million\",\"Funding_in_Million\",\"Funding_in_Million\",\"Funding_in_Million\",\"Funding_in_Million\",\"Funding_in_Million\",\"Funding_in_Million\",\"Funding_in_Million\",\"Funding_in_Million\",\"Funding_in_Million\",\"Funding_in_Million\",\"Funding_in_Million\",\"Funding_in_Million\",\"Funding_in_Million\",\"Funding_in_Million\",\"Funding_in_Million\",\"Funding_in_Million\",\"Funding_in_Million\",\"Funding_in_Million\",\"Funding_in_Million\",\"Funding_in_Million\",\"Funding_in_Million\",\"Funding_in_Million\",\"Funding_in_Million\",\"Funding_in_Million\",\"Funding_in_Million\",\"Funding_in_Million\",\"Funding_in_Million\",\"Funding_in_Million\",\"Funding_in_Million\",\"Funding_in_Million\",\"Funding_in_Million\",\"Funding_in_Million\",\"Funding_in_Million\",\"Funding_in_Million\",\"Funding_in_Million\",\"Funding_in_Million\",\"Funding_in_Million\",\"Funding_in_Million\",\"Funding_in_Million\",\"Funding_in_Million\",\"Funding_in_Million\",\"Funding_in_Million\",\"Funding_in_Million\",\"Funding_in_Million\",\"Funding_in_Million\",\"Funding_in_Million\",\"Funding_in_Million\",\"Funding_in_Million\",\"Funding_in_Million\",\"Funding_in_Million\",\"Funding_in_Million\",\"Funding_in_Million\",\"Funding_in_Million\",\"Funding_in_Million\",\"Funding_in_Million\",\"Funding_in_Million\",\"Funding_in_Million\",\"Funding_in_Million\",\"Funding_in_Million\",\"Funding_in_Million\",\"Funding_in_Million\",\"Funding_in_Million\",\"Funding_in_Million\",\"Funding_in_Million\",\"Funding_in_Million\",\"Funding_in_Million\",\"Funding_in_Million\",\"Funding_in_Million\",\"Funding_in_Million\",\"Funding_in_Million\",\"Funding_in_Million\",\"Funding_in_Million\",\"Funding_in_Million\",\"Funding_in_Million\",\"Funding_in_Million\",\"Funding_in_Million\",\"Funding_in_Million\",\"Funding_in_Million\",\"Funding_in_Million\",\"Funding_in_Million\",\"Funding_in_Million\",\"Funding_in_Million\",\"Funding_in_Million\",\"Funding_in_Million\",\"Funding_in_Million\",\"Funding_in_Million\",\"Funding_in_Million\",\"Funding_in_Million\",\"Funding_in_Million\",\"Funding_in_Million\",\"Funding_in_Million\",\"Funding_in_Million\",\"Funding_in_Million\",\"Funding_in_Million\",\"Funding_in_Million\",\"Funding_in_Million\",\"Funding_in_Million\",\"Funding_in_Million\",\"Funding_in_Million\",\"Funding_in_Million\",\"Funding_in_Million\",\"Funding_in_Million\",\"Funding_in_Million\",\"Funding_in_Million\",\"Funding_in_Million\",\"Funding_in_Million\",\"Funding_in_Million\",\"Funding_in_Million\",\"Funding_in_Million\",\"Funding_in_Million\",\"Funding_in_Million\",\"Funding_in_Million\",\"Funding_in_Million\",\"Funding_in_Million\",\"Funding_in_Million\",\"Funding_in_Million\",\"Funding_in_Million\",\"Funding_in_Million\",\"Funding_in_Million\"],\"x0\":\" \",\"xaxis\":\"x\",\"y\":[0.63,1.0,19.3,29.0,1.8,1.0,1.0,0.75,0.0179,11.6,0.9292,12.2,1.9,4.0,3.0,0.225,24.0,0.746,0.6,7.1,4.5,50.9,8.3,4.0,12.3,1.0,0.19,40.0,0.52,2.9,0.32,1.7,0.02,205.0,16.5,2.8,0.125,0.35,20.8,0.675,6.5,2.0,0.118,4.0,20.5,7.2,2.3,0.212,7.0,8.1,8.5,0.325,0.02,0.15,5.0,0.06,8.8,0.12,2.0,2.3,3.1,5.5,4.5,2.2,0.496,1.4,0.35,32.5,19.0,0.75,0.475,182.1,6.7,0.848,2.0,1.3,2.0,12.0,2.6,0.4115,0.925,8.1,35.4,3.0,38.0,37.1,6.8,72.0,64.0,12.5,0.9,0.1,7.3,0.1,1.3,0.983,9.7,4.0,5.4,0.16,0.3,0.02,1700.0,10.1,0.485,8.0,3.0,3.0,4.3,0.12,10.0,34.6,1.0,16.3,5.0,2.4,0.65,35.5,15.4,18.2,0.1,30.1,26.0,1.2,2.3,0.7906,0.06,66.0,6.5,28.3,6.4,8.2,1.7,0.005,10.0,0.3105,11.3,3.8,0.7,12.5,103.0,1.2,1.9,0.3346,25.9,0.7559,36.5,1.0,1.4,1.7,14.2,0.5,0.1915,44.7,0.5661,0.3,6.3,24.2,10.7,1.3,22.0,12.0,5.0,4.5,1.2,7.2,12.5,1.1,3.2,0.15,0.195,1.0,16.3,14.1,0.5,18.2,0.05,0.745,2.0,0.457,3.0,0.355,0.6962999999999999,122.4,0.42160000000000003,1.0,1.3,34.9,1.2,67.8,3.8,11.7,166.1,10.0,1.6,1.6,4.4,1.3,1.9,1.8,1.3,3.0,0.717,5.8,4.1,42.1,2.0,1.0,69.0,0.05,10.6,2.2,65.1,1.3,2.0,2.0,0.875,6.7,2.3,0.25,0.35,25.1,0.635,3.2,0.3,9.2,1.1,0.8,7.3,9.4,31.8,3.0,0.9,2.6,4.0,1.2,3.3,9.5,3.1,3.5,1.2,0.05,0.275,3.5,0.1,1.9,2.2,2.8,13.2,0.275,1.4,10.7,0.1,3.3,1.3,0.5,1.2,12.8,5.3,1.0,37.0,3.9,0.6514,38.5,25.5,3.8,0.892,24.0,3.4,7.2,1.2,2.2,1.5,0.52,0.0795,0.156,0.05,4.8,0.755,0.525,18.5,3.5,0.5,1.1,2.2,1.5,278.0,20.5,0.5,3.6,1.4,24.0,1.7,2.8,63.0,2.2,0.12,0.948,0.15,10.5,3.5,0.02,7.4,6.0,0.020300000000000002,0.1,0.765,0.145,0.02,7.0,5.0,25.0,1.2,0.956,0.25,3.0,7.7,1.5,160.0,0.8,1.4,0.59,2.0,6.0,3.4,0.1,0.8553999999999999,0.165,0.15,16.2,18.0,3.8,4.1,1.1,1.4,0.35,6.0,1.5,0.44,0.6844,0.1298,0.118,0.7,3.5,0.02,2.8,18.0,1.0,2.3,2.6,0.482,1.0,0.2,5.0,2.3,1.3,0.6,2.0,2.1,0.12,0.023,1.5,2.4,0.6,5.8,40.0,1.8,0.5,0.485,0.863,15.6,47.4,0.32380000000000003,0.6,5.1,24.5,1.0,0.35,0.3,0.65,5.3,0.532,4.2,6.3,1.5,1.9,0.28,9.8,16.0,25.0,0.093,0.088,10.3,13.1,5.3,332.4,7.8,14.5,3.0,1.0,35.0,0.5,2.0,168.8,2.8,1.6,1.1,0.8,0.8302,28.0,12.0,1.0,6.5,0.026699999999999998,4.5,2.3,0.055,7.1,30.8,10.0,0.275,0.0857,1.4,2.1,1.0,2.5,2.0,0.05,12.2,17.4,15.8,0.028,41.8,142.0,10.0,0.9,117.8,26.0,28.0,62.1,583.6,8.0,1.0,223.0,3.4,31.5],\"y0\":\" \",\"yaxis\":\"y\",\"type\":\"box\"}],                        {\"template\":{\"data\":{\"histogram2dcontour\":[{\"type\":\"histogram2dcontour\",\"colorbar\":{\"outlinewidth\":0,\"ticks\":\"\"},\"colorscale\":[[0.0,\"#0d0887\"],[0.1111111111111111,\"#46039f\"],[0.2222222222222222,\"#7201a8\"],[0.3333333333333333,\"#9c179e\"],[0.4444444444444444,\"#bd3786\"],[0.5555555555555556,\"#d8576b\"],[0.6666666666666666,\"#ed7953\"],[0.7777777777777778,\"#fb9f3a\"],[0.8888888888888888,\"#fdca26\"],[1.0,\"#f0f921\"]]}],\"choropleth\":[{\"type\":\"choropleth\",\"colorbar\":{\"outlinewidth\":0,\"ticks\":\"\"}}],\"histogram2d\":[{\"type\":\"histogram2d\",\"colorbar\":{\"outlinewidth\":0,\"ticks\":\"\"},\"colorscale\":[[0.0,\"#0d0887\"],[0.1111111111111111,\"#46039f\"],[0.2222222222222222,\"#7201a8\"],[0.3333333333333333,\"#9c179e\"],[0.4444444444444444,\"#bd3786\"],[0.5555555555555556,\"#d8576b\"],[0.6666666666666666,\"#ed7953\"],[0.7777777777777778,\"#fb9f3a\"],[0.8888888888888888,\"#fdca26\"],[1.0,\"#f0f921\"]]}],\"heatmap\":[{\"type\":\"heatmap\",\"colorbar\":{\"outlinewidth\":0,\"ticks\":\"\"},\"colorscale\":[[0.0,\"#0d0887\"],[0.1111111111111111,\"#46039f\"],[0.2222222222222222,\"#7201a8\"],[0.3333333333333333,\"#9c179e\"],[0.4444444444444444,\"#bd3786\"],[0.5555555555555556,\"#d8576b\"],[0.6666666666666666,\"#ed7953\"],[0.7777777777777778,\"#fb9f3a\"],[0.8888888888888888,\"#fdca26\"],[1.0,\"#f0f921\"]]}],\"heatmapgl\":[{\"type\":\"heatmapgl\",\"colorbar\":{\"outlinewidth\":0,\"ticks\":\"\"},\"colorscale\":[[0.0,\"#0d0887\"],[0.1111111111111111,\"#46039f\"],[0.2222222222222222,\"#7201a8\"],[0.3333333333333333,\"#9c179e\"],[0.4444444444444444,\"#bd3786\"],[0.5555555555555556,\"#d8576b\"],[0.6666666666666666,\"#ed7953\"],[0.7777777777777778,\"#fb9f3a\"],[0.8888888888888888,\"#fdca26\"],[1.0,\"#f0f921\"]]}],\"contourcarpet\":[{\"type\":\"contourcarpet\",\"colorbar\":{\"outlinewidth\":0,\"ticks\":\"\"}}],\"contour\":[{\"type\":\"contour\",\"colorbar\":{\"outlinewidth\":0,\"ticks\":\"\"},\"colorscale\":[[0.0,\"#0d0887\"],[0.1111111111111111,\"#46039f\"],[0.2222222222222222,\"#7201a8\"],[0.3333333333333333,\"#9c179e\"],[0.4444444444444444,\"#bd3786\"],[0.5555555555555556,\"#d8576b\"],[0.6666666666666666,\"#ed7953\"],[0.7777777777777778,\"#fb9f3a\"],[0.8888888888888888,\"#fdca26\"],[1.0,\"#f0f921\"]]}],\"surface\":[{\"type\":\"surface\",\"colorbar\":{\"outlinewidth\":0,\"ticks\":\"\"},\"colorscale\":[[0.0,\"#0d0887\"],[0.1111111111111111,\"#46039f\"],[0.2222222222222222,\"#7201a8\"],[0.3333333333333333,\"#9c179e\"],[0.4444444444444444,\"#bd3786\"],[0.5555555555555556,\"#d8576b\"],[0.6666666666666666,\"#ed7953\"],[0.7777777777777778,\"#fb9f3a\"],[0.8888888888888888,\"#fdca26\"],[1.0,\"#f0f921\"]]}],\"mesh3d\":[{\"type\":\"mesh3d\",\"colorbar\":{\"outlinewidth\":0,\"ticks\":\"\"}}],\"scatter\":[{\"fillpattern\":{\"fillmode\":\"overlay\",\"size\":10,\"solidity\":0.2},\"type\":\"scatter\"}],\"parcoords\":[{\"type\":\"parcoords\",\"line\":{\"colorbar\":{\"outlinewidth\":0,\"ticks\":\"\"}}}],\"scatterpolargl\":[{\"type\":\"scatterpolargl\",\"marker\":{\"colorbar\":{\"outlinewidth\":0,\"ticks\":\"\"}}}],\"bar\":[{\"error_x\":{\"color\":\"#2a3f5f\"},\"error_y\":{\"color\":\"#2a3f5f\"},\"marker\":{\"line\":{\"color\":\"#E5ECF6\",\"width\":0.5},\"pattern\":{\"fillmode\":\"overlay\",\"size\":10,\"solidity\":0.2}},\"type\":\"bar\"}],\"scattergeo\":[{\"type\":\"scattergeo\",\"marker\":{\"colorbar\":{\"outlinewidth\":0,\"ticks\":\"\"}}}],\"scatterpolar\":[{\"type\":\"scatterpolar\",\"marker\":{\"colorbar\":{\"outlinewidth\":0,\"ticks\":\"\"}}}],\"histogram\":[{\"marker\":{\"pattern\":{\"fillmode\":\"overlay\",\"size\":10,\"solidity\":0.2}},\"type\":\"histogram\"}],\"scattergl\":[{\"type\":\"scattergl\",\"marker\":{\"colorbar\":{\"outlinewidth\":0,\"ticks\":\"\"}}}],\"scatter3d\":[{\"type\":\"scatter3d\",\"line\":{\"colorbar\":{\"outlinewidth\":0,\"ticks\":\"\"}},\"marker\":{\"colorbar\":{\"outlinewidth\":0,\"ticks\":\"\"}}}],\"scattermapbox\":[{\"type\":\"scattermapbox\",\"marker\":{\"colorbar\":{\"outlinewidth\":0,\"ticks\":\"\"}}}],\"scatterternary\":[{\"type\":\"scatterternary\",\"marker\":{\"colorbar\":{\"outlinewidth\":0,\"ticks\":\"\"}}}],\"scattercarpet\":[{\"type\":\"scattercarpet\",\"marker\":{\"colorbar\":{\"outlinewidth\":0,\"ticks\":\"\"}}}],\"carpet\":[{\"aaxis\":{\"endlinecolor\":\"#2a3f5f\",\"gridcolor\":\"white\",\"linecolor\":\"white\",\"minorgridcolor\":\"white\",\"startlinecolor\":\"#2a3f5f\"},\"baxis\":{\"endlinecolor\":\"#2a3f5f\",\"gridcolor\":\"white\",\"linecolor\":\"white\",\"minorgridcolor\":\"white\",\"startlinecolor\":\"#2a3f5f\"},\"type\":\"carpet\"}],\"table\":[{\"cells\":{\"fill\":{\"color\":\"#EBF0F8\"},\"line\":{\"color\":\"white\"}},\"header\":{\"fill\":{\"color\":\"#C8D4E3\"},\"line\":{\"color\":\"white\"}},\"type\":\"table\"}],\"barpolar\":[{\"marker\":{\"line\":{\"color\":\"#E5ECF6\",\"width\":0.5},\"pattern\":{\"fillmode\":\"overlay\",\"size\":10,\"solidity\":0.2}},\"type\":\"barpolar\"}],\"pie\":[{\"automargin\":true,\"type\":\"pie\"}]},\"layout\":{\"autotypenumbers\":\"strict\",\"colorway\":[\"#636efa\",\"#EF553B\",\"#00cc96\",\"#ab63fa\",\"#FFA15A\",\"#19d3f3\",\"#FF6692\",\"#B6E880\",\"#FF97FF\",\"#FECB52\"],\"font\":{\"color\":\"#2a3f5f\"},\"hovermode\":\"closest\",\"hoverlabel\":{\"align\":\"left\"},\"paper_bgcolor\":\"white\",\"plot_bgcolor\":\"#E5ECF6\",\"polar\":{\"bgcolor\":\"#E5ECF6\",\"angularaxis\":{\"gridcolor\":\"white\",\"linecolor\":\"white\",\"ticks\":\"\"},\"radialaxis\":{\"gridcolor\":\"white\",\"linecolor\":\"white\",\"ticks\":\"\"}},\"ternary\":{\"bgcolor\":\"#E5ECF6\",\"aaxis\":{\"gridcolor\":\"white\",\"linecolor\":\"white\",\"ticks\":\"\"},\"baxis\":{\"gridcolor\":\"white\",\"linecolor\":\"white\",\"ticks\":\"\"},\"caxis\":{\"gridcolor\":\"white\",\"linecolor\":\"white\",\"ticks\":\"\"}},\"coloraxis\":{\"colorbar\":{\"outlinewidth\":0,\"ticks\":\"\"}},\"colorscale\":{\"sequential\":[[0.0,\"#0d0887\"],[0.1111111111111111,\"#46039f\"],[0.2222222222222222,\"#7201a8\"],[0.3333333333333333,\"#9c179e\"],[0.4444444444444444,\"#bd3786\"],[0.5555555555555556,\"#d8576b\"],[0.6666666666666666,\"#ed7953\"],[0.7777777777777778,\"#fb9f3a\"],[0.8888888888888888,\"#fdca26\"],[1.0,\"#f0f921\"]],\"sequentialminus\":[[0.0,\"#0d0887\"],[0.1111111111111111,\"#46039f\"],[0.2222222222222222,\"#7201a8\"],[0.3333333333333333,\"#9c179e\"],[0.4444444444444444,\"#bd3786\"],[0.5555555555555556,\"#d8576b\"],[0.6666666666666666,\"#ed7953\"],[0.7777777777777778,\"#fb9f3a\"],[0.8888888888888888,\"#fdca26\"],[1.0,\"#f0f921\"]],\"diverging\":[[0,\"#8e0152\"],[0.1,\"#c51b7d\"],[0.2,\"#de77ae\"],[0.3,\"#f1b6da\"],[0.4,\"#fde0ef\"],[0.5,\"#f7f7f7\"],[0.6,\"#e6f5d0\"],[0.7,\"#b8e186\"],[0.8,\"#7fbc41\"],[0.9,\"#4d9221\"],[1,\"#276419\"]]},\"xaxis\":{\"gridcolor\":\"white\",\"linecolor\":\"white\",\"ticks\":\"\",\"title\":{\"standoff\":15},\"zerolinecolor\":\"white\",\"automargin\":true,\"zerolinewidth\":2},\"yaxis\":{\"gridcolor\":\"white\",\"linecolor\":\"white\",\"ticks\":\"\",\"title\":{\"standoff\":15},\"zerolinecolor\":\"white\",\"automargin\":true,\"zerolinewidth\":2},\"scene\":{\"xaxis\":{\"backgroundcolor\":\"#E5ECF6\",\"gridcolor\":\"white\",\"linecolor\":\"white\",\"showbackground\":true,\"ticks\":\"\",\"zerolinecolor\":\"white\",\"gridwidth\":2},\"yaxis\":{\"backgroundcolor\":\"#E5ECF6\",\"gridcolor\":\"white\",\"linecolor\":\"white\",\"showbackground\":true,\"ticks\":\"\",\"zerolinecolor\":\"white\",\"gridwidth\":2},\"zaxis\":{\"backgroundcolor\":\"#E5ECF6\",\"gridcolor\":\"white\",\"linecolor\":\"white\",\"showbackground\":true,\"ticks\":\"\",\"zerolinecolor\":\"white\",\"gridwidth\":2}},\"shapedefaults\":{\"line\":{\"color\":\"#2a3f5f\"}},\"annotationdefaults\":{\"arrowcolor\":\"#2a3f5f\",\"arrowhead\":0,\"arrowwidth\":1},\"geo\":{\"bgcolor\":\"white\",\"landcolor\":\"#E5ECF6\",\"subunitcolor\":\"white\",\"showland\":true,\"showlakes\":true,\"lakecolor\":\"white\"},\"title\":{\"x\":0.05},\"mapbox\":{\"style\":\"light\"}}},\"xaxis\":{\"anchor\":\"y\",\"domain\":[0.0,1.0],\"title\":{\"text\":\"variable\"}},\"yaxis\":{\"anchor\":\"x\",\"domain\":[0.0,1.0],\"title\":{\"text\":\"value\"}},\"legend\":{\"tracegroupgap\":0},\"margin\":{\"t\":60},\"boxmode\":\"group\"},                        {\"responsive\": true}                    ).then(function(){\n",
       "                            \n",
       "var gd = document.getElementById('6df50f65-a91e-43df-98fc-2afdda6c11cc');\n",
       "var x = new MutationObserver(function (mutations, observer) {{\n",
       "        var display = window.getComputedStyle(gd).display;\n",
       "        if (!display || display === 'none') {{\n",
       "            console.log([gd, 'removed!']);\n",
       "            Plotly.purge(gd);\n",
       "            observer.disconnect();\n",
       "        }}\n",
       "}});\n",
       "\n",
       "// Listen for the removal of the full notebook cells\n",
       "var notebookContainer = gd.closest('#notebook-container');\n",
       "if (notebookContainer) {{\n",
       "    x.observe(notebookContainer, {childList: true});\n",
       "}}\n",
       "\n",
       "// Listen for the clearing of the current output cell\n",
       "var outputEl = gd.closest('.output');\n",
       "if (outputEl) {{\n",
       "    x.observe(outputEl, {childList: true});\n",
       "}}\n",
       "\n",
       "                        })                };                });            </script>        </div>"
      ]
     },
     "metadata": {},
     "output_type": "display_data"
    }
   ],
   "source": [
    "import plotly.express as px\n",
    "fig = px.box(df1['Funding_in_Million'])\n",
    "fig.show()"
   ]
  },
  {
   "cell_type": "code",
   "execution_count": 23,
   "id": "eb13cf68",
   "metadata": {},
   "outputs": [
    {
     "data": {
      "image/png": "[encoded data removed]",
      "text/plain": [
       "<Figure size 640x480 with 1 Axes>"
      ]
     },
     "metadata": {},
     "output_type": "display_data"
    }
   ],
   "source": [
    "plot   = plt.boxplot(df1['Funding_in_Million'])\n",
    "plt.xlabel(\"boxplot of the funds\")\n",
    "plt.ylabel('Funds raised(Million)')\n",
    "plt.show()"
   ]
  },
  {
   "cell_type": "code",
   "execution_count": 26,
   "id": "1caa62ee",
   "metadata": {},
   "outputs": [],
   "source": [
    "upper_fence = plot[\"caps\"][1].get_data()[1][1]"
   ]
  },
  {
   "cell_type": "code",
   "execution_count": 27,
   "id": "b5fafeaf",
   "metadata": {},
   "outputs": [
    {
     "data": {
      "text/plain": [
       "22.0"
      ]
     },
     "execution_count": 27,
     "metadata": {},
     "output_type": "execute_result"
    }
   ],
   "source": [
    "upper_fence"
   ]
  },
  {
   "cell_type": "code",
   "execution_count": 35,
   "id": "054c9c2a",
   "metadata": {},
   "outputs": [
    {
     "name": "stdout",
     "output_type": "stream",
     "text": [
      "Number of Outliers : 60\n"
     ]
    }
   ],
   "source": [
    "print(f'Number of Outliers : {len(df1[df1[\"Funding_in_Million\"]> upper_fence])}')"
   ]
  },
  {
   "cell_type": "code",
   "execution_count": 36,
   "id": "ebf66294",
   "metadata": {},
   "outputs": [],
   "source": [
    "df1.drop(df1[df1[\"Funding_in_Million\"]> upper_fence].index,inplace = True)"
   ]
  },
  {
   "cell_type": "code",
   "execution_count": 37,
   "id": "eb858a71",
   "metadata": {},
   "outputs": [
    {
     "data": {
      "text/html": [
       "<div>\n",
       "<style scoped>\n",
       "    .dataframe tbody tr th:only-of-type {\n",
       "        vertical-align: middle;\n",
       "    }\n",
       "\n",
       "    .dataframe tbody tr th {\n",
       "        vertical-align: top;\n",
       "    }\n",
       "\n",
       "    .dataframe thead th {\n",
       "        text-align: right;\n",
       "    }\n",
       "</style>\n",
       "<table border=\"1\" class=\"dataframe\">\n",
       "  <thead>\n",
       "    <tr style=\"text-align: right;\">\n",
       "      <th></th>\n",
       "      <th>Startup</th>\n",
       "      <th>Product</th>\n",
       "      <th>Funding</th>\n",
       "      <th>Event</th>\n",
       "      <th>Result</th>\n",
       "      <th>OperatingState</th>\n",
       "      <th>Funding_in_Million</th>\n",
       "    </tr>\n",
       "  </thead>\n",
       "  <tbody>\n",
       "    <tr>\n",
       "      <th>1</th>\n",
       "      <td>3DLT</td>\n",
       "      <td>3dlt.com</td>\n",
       "      <td>$630K</td>\n",
       "      <td>Disrupt NYC 2013</td>\n",
       "      <td>Contestant</td>\n",
       "      <td>Closed</td>\n",
       "      <td>0.63</td>\n",
       "    </tr>\n",
       "    <tr>\n",
       "      <th>3</th>\n",
       "      <td>3Dprintler</td>\n",
       "      <td>3dprintler.com</td>\n",
       "      <td>$1M</td>\n",
       "      <td>Disrupt NY 2016</td>\n",
       "      <td>Audience choice</td>\n",
       "      <td>Operating</td>\n",
       "      <td>1.00</td>\n",
       "    </tr>\n",
       "    <tr>\n",
       "      <th>5</th>\n",
       "      <td>5to1</td>\n",
       "      <td>5to1.com</td>\n",
       "      <td>$19.3M</td>\n",
       "      <td>TC50 2009</td>\n",
       "      <td>Contestant</td>\n",
       "      <td>Acquired</td>\n",
       "      <td>19.30</td>\n",
       "    </tr>\n",
       "    <tr>\n",
       "      <th>10</th>\n",
       "      <td>AdhereTech</td>\n",
       "      <td>adheretech.com</td>\n",
       "      <td>$1.8M</td>\n",
       "      <td>Hardware Battlefield 2014</td>\n",
       "      <td>Contestant</td>\n",
       "      <td>Operating</td>\n",
       "      <td>1.80</td>\n",
       "    </tr>\n",
       "    <tr>\n",
       "      <th>11</th>\n",
       "      <td>AdRocket</td>\n",
       "      <td>adrocket.com</td>\n",
       "      <td>$1M</td>\n",
       "      <td>TC50 2008</td>\n",
       "      <td>Contestant</td>\n",
       "      <td>Closed</td>\n",
       "      <td>1.00</td>\n",
       "    </tr>\n",
       "  </tbody>\n",
       "</table>\n",
       "</div>"
      ],
      "text/plain": [
       "       Startup         Product Funding                      Event  \\\n",
       "1         3DLT        3dlt.com   $630K           Disrupt NYC 2013   \n",
       "3   3Dprintler  3dprintler.com     $1M            Disrupt NY 2016   \n",
       "5         5to1        5to1.com  $19.3M                  TC50 2009   \n",
       "10  AdhereTech  adheretech.com   $1.8M  Hardware Battlefield 2014   \n",
       "11    AdRocket    adrocket.com     $1M                  TC50 2008   \n",
       "\n",
       "             Result OperatingState  Funding_in_Million  \n",
       "1        Contestant         Closed                0.63  \n",
       "3   Audience choice      Operating                1.00  \n",
       "5        Contestant       Acquired               19.30  \n",
       "10       Contestant      Operating                1.80  \n",
       "11       Contestant         Closed                1.00  "
      ]
     },
     "execution_count": 37,
     "metadata": {},
     "output_type": "execute_result"
    }
   ],
   "source": [
    "df1.head()"
   ]
  },
  {
   "cell_type": "code",
   "execution_count": 38,
   "id": "ff361e20",
   "metadata": {},
   "outputs": [
    {
     "data": {
      "text/plain": [
       "Operating    275\n",
       "Closed        56\n",
       "Acquired      55\n",
       "Name: OperatingState, dtype: int64"
      ]
     },
     "execution_count": 38,
     "metadata": {},
     "output_type": "execute_result"
    }
   ],
   "source": [
    "df1['OperatingState'].value_counts()"
   ]
  },
  {
   "cell_type": "markdown",
   "id": "91719201",
   "metadata": {},
   "source": [
    "## Statistical analysis:"
   ]
  },
  {
   "cell_type": "markdown",
   "id": "59f1c149",
   "metadata": {},
   "source": [
    "- Visually the distributions are quiet similar\n",
    "- To prove if there is a significant difference or not we will have to perform a hypothesis test\n",
    "- Since we want to compare the difference in means of the samples, we can either use 2 sample t test or z-test\n",
    "- For this exercise we shall do both and compare the results\n",
    "- One thing to notice is that the distributions are not normal yet, since our sample size is reasonably big ( >30 samples), we will go ahead with the aforementioned tests"
   ]
  },
  {
   "cell_type": "markdown",
   "id": "77fb1638",
   "metadata": {},
   "source": [
    "##### Question: Is there any significant difference between Funds raised by companies that are still operating vs companies that got closed down: \n",
    "\n",
    "- Write the null hypothesis. \n",
    "- Write the alternative hypothesis. \n",
    "- Test for significance and Conclusion. \n",
    "\n",
    "\n",
    "For the first test, \n",
    "\n",
    "**Null hypothesis (Ho)** : There is no difference between the two means\n",
    "\n",
    "**Alternate hypothesis (Ha)** : There is significant difference between the two means"
   ]
  },
  {
   "cell_type": "code",
   "execution_count": 41,
   "id": "44eebb37",
   "metadata": {},
   "outputs": [],
   "source": [
    "sample1 = df1.loc[df1[\"OperatingState\"]==\"Operating\",\"Funding_in_Million\"]\n",
    "sample2 = df1.loc[df1[\"OperatingState\"]==\"Closed\",\"Funding_in_Million\"]"
   ]
  },
  {
   "cell_type": "code",
   "execution_count": 42,
   "id": "3fbc776d",
   "metadata": {},
   "outputs": [],
   "source": [
    "from statsmodels.stats.weightstats import ztest"
   ]
  },
  {
   "cell_type": "code",
   "execution_count": 43,
   "id": "7716ae33",
   "metadata": {},
   "outputs": [
    {
     "name": "stdout",
     "output_type": "stream",
     "text": [
      "\t Since the p-value, 0.192 > 0.05 (alpha) the difference is not significant and,\n",
      "    \t we fail to reject the Null hypothesis\n"
     ]
    }
   ],
   "source": [
    "alpha = 0.05   # Let's consider a significance level of 5%\n",
    "\n",
    "test_statistic, p_value = ztest(sample1, sample2)  \n",
    "\n",
    "if p_value <= alpha:\n",
    "    print(f'Since the p-value, {round(p_value, 3)} < {alpha} (alpha) the difference is significant and we reject the Null hypothesis')\n",
    "else:\n",
    "    print(f'''\\t Since the p-value, {round(p_value,3)} > {alpha} (alpha) the difference is not significant and,\n",
    "    \\t we fail to reject the Null hypothesis''')"
   ]
  },
  {
   "cell_type": "code",
   "execution_count": 45,
   "id": "fa9ae12b",
   "metadata": {},
   "outputs": [
    {
     "name": "stdout",
     "output_type": "stream",
     "text": [
      "\t Since the p-value, 0.193 > 0.05 (alpha) the difference is not significant and,\n",
      "    \t we fail to reject the Null hypothesis\n"
     ]
    }
   ],
   "source": [
    "from scipy.stats import ttest_ind\n",
    "\n",
    "test_statistic, p_value = ttest_ind(sample1, sample2)\n",
    "\n",
    "if p_value <= alpha:\n",
    "    print(f'Since the p-value, {round(p_value, 3)} < {alpha} (alpha) the difference is significant and we reject the Null hypothesis')\n",
    "else:\n",
    "    print(f'''\\t Since the p-value, {round(p_value,3)} > {alpha} (alpha) the difference is not significant and,\n",
    "    \\t we fail to reject the Null hypothesis''')"
   ]
  },
  {
   "cell_type": "markdown",
   "id": "0f36dcb7",
   "metadata": {},
   "source": [
    "*  From the tests above we found no evidence to state that the companies that have raised more money tend to suceed more or vice-versa"
   ]
  },
  {
   "cell_type": "code",
   "execution_count": 46,
   "id": "9caf2860",
   "metadata": {},
   "outputs": [
    {
     "data": {
      "text/html": [
       "<div>\n",
       "<style scoped>\n",
       "    .dataframe tbody tr th:only-of-type {\n",
       "        vertical-align: middle;\n",
       "    }\n",
       "\n",
       "    .dataframe tbody tr th {\n",
       "        vertical-align: top;\n",
       "    }\n",
       "\n",
       "    .dataframe thead th {\n",
       "        text-align: right;\n",
       "    }\n",
       "</style>\n",
       "<table border=\"1\" class=\"dataframe\">\n",
       "  <thead>\n",
       "    <tr style=\"text-align: right;\">\n",
       "      <th></th>\n",
       "      <th>Startup</th>\n",
       "      <th>Product</th>\n",
       "      <th>Funding</th>\n",
       "      <th>Event</th>\n",
       "      <th>Result</th>\n",
       "      <th>OperatingState</th>\n",
       "      <th>Funding_in_Million</th>\n",
       "    </tr>\n",
       "  </thead>\n",
       "  <tbody>\n",
       "    <tr>\n",
       "      <th>1</th>\n",
       "      <td>3DLT</td>\n",
       "      <td>3dlt.com</td>\n",
       "      <td>$630K</td>\n",
       "      <td>Disrupt NYC 2013</td>\n",
       "      <td>Contestant</td>\n",
       "      <td>Closed</td>\n",
       "      <td>0.63</td>\n",
       "    </tr>\n",
       "    <tr>\n",
       "      <th>3</th>\n",
       "      <td>3Dprintler</td>\n",
       "      <td>3dprintler.com</td>\n",
       "      <td>$1M</td>\n",
       "      <td>Disrupt NY 2016</td>\n",
       "      <td>Audience choice</td>\n",
       "      <td>Operating</td>\n",
       "      <td>1.00</td>\n",
       "    </tr>\n",
       "    <tr>\n",
       "      <th>5</th>\n",
       "      <td>5to1</td>\n",
       "      <td>5to1.com</td>\n",
       "      <td>$19.3M</td>\n",
       "      <td>TC50 2009</td>\n",
       "      <td>Contestant</td>\n",
       "      <td>Acquired</td>\n",
       "      <td>19.30</td>\n",
       "    </tr>\n",
       "    <tr>\n",
       "      <th>10</th>\n",
       "      <td>AdhereTech</td>\n",
       "      <td>adheretech.com</td>\n",
       "      <td>$1.8M</td>\n",
       "      <td>Hardware Battlefield 2014</td>\n",
       "      <td>Contestant</td>\n",
       "      <td>Operating</td>\n",
       "      <td>1.80</td>\n",
       "    </tr>\n",
       "    <tr>\n",
       "      <th>11</th>\n",
       "      <td>AdRocket</td>\n",
       "      <td>adrocket.com</td>\n",
       "      <td>$1M</td>\n",
       "      <td>TC50 2008</td>\n",
       "      <td>Contestant</td>\n",
       "      <td>Closed</td>\n",
       "      <td>1.00</td>\n",
       "    </tr>\n",
       "  </tbody>\n",
       "</table>\n",
       "</div>"
      ],
      "text/plain": [
       "       Startup         Product Funding                      Event  \\\n",
       "1         3DLT        3dlt.com   $630K           Disrupt NYC 2013   \n",
       "3   3Dprintler  3dprintler.com     $1M            Disrupt NY 2016   \n",
       "5         5to1        5to1.com  $19.3M                  TC50 2009   \n",
       "10  AdhereTech  adheretech.com   $1.8M  Hardware Battlefield 2014   \n",
       "11    AdRocket    adrocket.com     $1M                  TC50 2008   \n",
       "\n",
       "             Result OperatingState  Funding_in_Million  \n",
       "1        Contestant         Closed                0.63  \n",
       "3   Audience choice      Operating                1.00  \n",
       "5        Contestant       Acquired               19.30  \n",
       "10       Contestant      Operating                1.80  \n",
       "11       Contestant         Closed                1.00  "
      ]
     },
     "execution_count": 46,
     "metadata": {},
     "output_type": "execute_result"
    }
   ],
   "source": [
    "df1.head()"
   ]
  },
  {
   "cell_type": "code",
   "execution_count": 47,
   "id": "daa33ccf",
   "metadata": {},
   "outputs": [
    {
     "data": {
      "text/plain": [
       "Contestant         282\n",
       "Finalist            52\n",
       "Audience choice     20\n",
       "Winner              17\n",
       "Runner up           15\n",
       "Name: Result, dtype: int64"
      ]
     },
     "execution_count": 47,
     "metadata": {},
     "output_type": "execute_result"
    }
   ],
   "source": [
    "df1[\"Result\"].value_counts()"
   ]
  },
  {
   "cell_type": "code",
   "execution_count": 48,
   "id": "64477c70",
   "metadata": {},
   "outputs": [],
   "source": [
    "df2  = data.copy()"
   ]
  },
  {
   "cell_type": "code",
   "execution_count": 49,
   "id": "74afb7a6",
   "metadata": {},
   "outputs": [
    {
     "data": {
      "text/html": [
       "<div>\n",
       "<style scoped>\n",
       "    .dataframe tbody tr th:only-of-type {\n",
       "        vertical-align: middle;\n",
       "    }\n",
       "\n",
       "    .dataframe tbody tr th {\n",
       "        vertical-align: top;\n",
       "    }\n",
       "\n",
       "    .dataframe thead th {\n",
       "        text-align: right;\n",
       "    }\n",
       "</style>\n",
       "<table border=\"1\" class=\"dataframe\">\n",
       "  <thead>\n",
       "    <tr style=\"text-align: right;\">\n",
       "      <th></th>\n",
       "      <th>Startup</th>\n",
       "      <th>Product</th>\n",
       "      <th>Funding</th>\n",
       "      <th>Event</th>\n",
       "      <th>Result</th>\n",
       "      <th>OperatingState</th>\n",
       "    </tr>\n",
       "  </thead>\n",
       "  <tbody>\n",
       "    <tr>\n",
       "      <th>0</th>\n",
       "      <td>2600Hz</td>\n",
       "      <td>2600hz.com</td>\n",
       "      <td>NaN</td>\n",
       "      <td>Disrupt SF 2013</td>\n",
       "      <td>Contestant</td>\n",
       "      <td>Operating</td>\n",
       "    </tr>\n",
       "    <tr>\n",
       "      <th>1</th>\n",
       "      <td>3DLT</td>\n",
       "      <td>3dlt.com</td>\n",
       "      <td>$630K</td>\n",
       "      <td>Disrupt NYC 2013</td>\n",
       "      <td>Contestant</td>\n",
       "      <td>Closed</td>\n",
       "    </tr>\n",
       "    <tr>\n",
       "      <th>2</th>\n",
       "      <td>3DPrinterOS</td>\n",
       "      <td>3dprinteros.com</td>\n",
       "      <td>NaN</td>\n",
       "      <td>Disrupt SF 2016</td>\n",
       "      <td>Contestant</td>\n",
       "      <td>Operating</td>\n",
       "    </tr>\n",
       "    <tr>\n",
       "      <th>3</th>\n",
       "      <td>3Dprintler</td>\n",
       "      <td>3dprintler.com</td>\n",
       "      <td>$1M</td>\n",
       "      <td>Disrupt NY 2016</td>\n",
       "      <td>Audience choice</td>\n",
       "      <td>Operating</td>\n",
       "    </tr>\n",
       "    <tr>\n",
       "      <th>4</th>\n",
       "      <td>42 Technologies</td>\n",
       "      <td>42technologies.com</td>\n",
       "      <td>NaN</td>\n",
       "      <td>Disrupt NYC 2013</td>\n",
       "      <td>Contestant</td>\n",
       "      <td>Operating</td>\n",
       "    </tr>\n",
       "  </tbody>\n",
       "</table>\n",
       "</div>"
      ],
      "text/plain": [
       "           Startup             Product Funding             Event  \\\n",
       "0           2600Hz          2600hz.com     NaN   Disrupt SF 2013   \n",
       "1             3DLT            3dlt.com   $630K  Disrupt NYC 2013   \n",
       "2      3DPrinterOS     3dprinteros.com     NaN   Disrupt SF 2016   \n",
       "3       3Dprintler      3dprintler.com     $1M   Disrupt NY 2016   \n",
       "4  42 Technologies  42technologies.com     NaN  Disrupt NYC 2013   \n",
       "\n",
       "            Result OperatingState  \n",
       "0       Contestant      Operating  \n",
       "1       Contestant         Closed  \n",
       "2       Contestant      Operating  \n",
       "3  Audience choice      Operating  \n",
       "4       Contestant      Operating  "
      ]
     },
     "execution_count": 49,
     "metadata": {},
     "output_type": "execute_result"
    }
   ],
   "source": [
    "df2.head()"
   ]
  },
  {
   "cell_type": "code",
   "execution_count": 51,
   "id": "dbdf10e6",
   "metadata": {},
   "outputs": [
    {
     "data": {
      "text/plain": [
       "Contestant         488\n",
       "Finalist            84\n",
       "Audience choice     41\n",
       "Winner              26\n",
       "Runner up           23\n",
       "Name: Result, dtype: int64"
      ]
     },
     "execution_count": 51,
     "metadata": {},
     "output_type": "execute_result"
    }
   ],
   "source": [
    "df2.Result.value_counts()"
   ]
  },
  {
   "cell_type": "code",
   "execution_count": 52,
   "id": "46a36643",
   "metadata": {},
   "outputs": [
    {
     "data": {
      "text/plain": [
       "(0.764367816091954, 0.680327868852459)"
      ]
     },
     "execution_count": 52,
     "metadata": {},
     "output_type": "execute_result"
    }
   ],
   "source": [
    "# Calculate percentage of winners\n",
    "winners = df2.Result.value_counts()[1:].sum()\n",
    "contestants = df2.Result.value_counts()['Contestant']\n",
    "\n",
    "contestants_operating = df2.OperatingState[df2.Result == 'Contestant'].value_counts().loc['Operating']\n",
    "winners_operating = df2.OperatingState[df2.Result != 'Contestant'].value_counts().loc['Operating']\n",
    "\n",
    "winners_operating/winners, contestants_operating/contestants"
   ]
  },
  {
   "cell_type": "markdown",
   "id": "eacb1418",
   "metadata": {},
   "source": [
    "Null hyputhesis (Ho): The proportion of companies that are operating is the same in both categories - winners and contestants\n",
    "\n",
    "Alternative hypothesis (Ha): The proportion of companies that are operating is significantly different from each other, among the two categories"
   ]
  },
  {
   "cell_type": "code",
   "execution_count": 57,
   "id": "210720bb",
   "metadata": {},
   "outputs": [
    {
     "name": "stdout",
     "output_type": "stream",
     "text": [
      "Since the p-value, 0.037 < 0.05 (alpha) the difference is significant and we reject the Null hypothesis\n"
     ]
    }
   ],
   "source": [
    "from statsmodels.stats.proportion import proportions_ztest\n",
    "\n",
    "test_statistic, p_value = proportions_ztest([contestants_operating, winners_operating], [contestants, winners])\n",
    "\n",
    "if p_value <= alpha:\n",
    "    print(f'Since the p-value, {round(p_value, 3)} < {alpha} (alpha) the difference is significant and we reject the Null hypothesis')\n",
    "else:\n",
    "    print(f'''\\t Since the p-value, {round(p_value,3)} > {alpha} (alpha) the difference is not significant and,\n",
    "    \\t we fail to reject the Null hypothesis''')"
   ]
  },
  {
   "cell_type": "markdown",
   "id": "382e8179",
   "metadata": {},
   "source": [
    "##### Conclusion\n",
    "- The amount of funds a company raises is not a significant factor in deciding if the company will remain operational or close down\n",
    "- Winners in the battle have proven to remain operational more so, than the companies that came out only as contestants"
   ]
  },
  {
   "cell_type": "code",
   "execution_count": null,
   "id": "c28eb7c7",
   "metadata": {},
   "outputs": [],
   "source": []
  }
 ],
 "metadata": {
  "kernelspec": {
   "display_name": "Python 3 (ipykernel)",
   "language": "python",
   "name": "python3"
  },
  "language_info": {
   "codemirror_mode": {
    "name": "ipython",
    "version": 3
   },
   "file_extension": ".py",
   "mimetype": "text/x-python",
   "name": "python",
   "nbconvert_exporter": "python",
   "pygments_lexer": "ipython3",
   "version": "3.9.13"
  }
 },
 "nbformat": 4,
 "nbformat_minor": 5
}
